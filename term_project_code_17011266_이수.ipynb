{
  "nbformat": 4,
  "nbformat_minor": 0,
  "metadata": {
    "colab": {
      "provenance": [],
      "authorship_tag": "ABX9TyMJHsAPFDx/qP7Wll9b4NQz",
      "include_colab_link": true
    },
    "kernelspec": {
      "name": "python3",
      "display_name": "Python 3"
    },
    "language_info": {
      "name": "python"
    }
  },
  "cells": [
    {
      "cell_type": "markdown",
      "metadata": {
        "id": "view-in-github",
        "colab_type": "text"
      },
      "source": [
        "<a href=\"https://colab.research.google.com/github/TNTTNTTTN/Titanic_Survive_Prediction/blob/main/term_project_code_17011266_%EC%9D%B4%EC%88%98.ipynb\" target=\"_parent\"><img src=\"https://colab.research.google.com/assets/colab-badge.svg\" alt=\"Open In Colab\"/></a>"
      ]
    },
    {
      "cell_type": "code",
      "execution_count": 1,
      "metadata": {
        "colab": {
          "base_uri": "https://localhost:8080/"
        },
        "id": "cB_zyD5x-ao2",
        "outputId": "886bc51a-4f1b-44f1-e8da-61c094d3b111"
      },
      "outputs": [
        {
          "output_type": "stream",
          "name": "stdout",
          "text": [
            "<class 'pandas.core.frame.DataFrame'>\n",
            "RangeIndex: 891 entries, 0 to 890\n",
            "Data columns (total 12 columns):\n",
            " #   Column       Non-Null Count  Dtype  \n",
            "---  ------       --------------  -----  \n",
            " 0   PassengerId  891 non-null    int64  \n",
            " 1   Survived     891 non-null    int64  \n",
            " 2   Pclass       891 non-null    int64  \n",
            " 3   Name         891 non-null    object \n",
            " 4   Sex          891 non-null    object \n",
            " 5   Age          714 non-null    float64\n",
            " 6   SibSp        891 non-null    int64  \n",
            " 7   Parch        891 non-null    int64  \n",
            " 8   Ticket       891 non-null    object \n",
            " 9   Fare         891 non-null    float64\n",
            " 10  Cabin        204 non-null    object \n",
            " 11  Embarked     889 non-null    object \n",
            "dtypes: float64(2), int64(5), object(5)\n",
            "memory usage: 83.7+ KB\n"
          ]
        }
      ],
      "source": [
        "#-*- coding: utf-8 -*-\n",
        "from keras.models import Sequential, load_model\n",
        "from keras.layers import Dense, Dropout\n",
        "from sklearn.model_selection import train_test_split, StratifiedKFold\n",
        "from sklearn.preprocessing import MinMaxScaler, StandardScaler, LabelEncoder\n",
        "from keras.callbacks import EarlyStopping\n",
        "\n",
        "import numpy as np\n",
        "import pandas as pd\n",
        "import tensorflow as tf\n",
        "import matplotlib.pyplot as plt\n",
        "import seaborn as sns\n",
        "\n",
        "seed = 3\n",
        "np.random.seed(seed)\n",
        "tf.random.set_seed(seed)\n",
        "\n",
        "df = pd.read_csv(\"/content/train.csv\")\n",
        "#df2 = pd.read_csv(\"/content/test.csv\")\n",
        "#df1.drop(labels='Survived', axis=1, inplace=True)\n",
        "#df = pd.concat([df1, df2[:]], axis=0)\n",
        "stscaler = StandardScaler()\n",
        "mmscaler = MinMaxScaler()\n",
        "df.info()"
      ]
    },
    {
      "cell_type": "code",
      "source": [
        "def get_title(Name):\n",
        "  if 'Mrs' in Name or 'Mme' in Name :\n",
        "    Title='Mrs'\n",
        "  elif 'Mr' in Name or 'Sir' in Name :\n",
        "    Title='Mr'\n",
        "  elif 'Miss' in Name or 'Ms' in Name or 'Mlle' in Name:\n",
        "    Title='Miss'\n",
        "  elif 'Master' in Name:\n",
        "    Title='Master'\n",
        "  else:\n",
        "    Title='Else'\n",
        "  return Title"
      ],
      "metadata": {
        "id": "UW5mHZHE4fEj"
      },
      "execution_count": 2,
      "outputs": []
    },
    {
      "cell_type": "code",
      "source": [
        "df['Title'] = df['Name'].apply(lambda x : get_title(x))\n",
        "df['Pclass'] = df['Pclass'].astype('string')\n",
        "title_dic = {0:\"Mrs\", 1:\"Mr\", 2:\"Miss\", 3:\"Master\", 4:\"Else\"}"
      ],
      "metadata": {
        "id": "rH-Oxktgsbza"
      },
      "execution_count": 3,
      "outputs": []
    },
    {
      "cell_type": "code",
      "source": [
        "#df['Sex'] = df['Sex'].map({'male':0, 'female':1}).astype(int)\n",
        "df.loc[(df['Sex']=='male') & (df['Age'].isnull()) & (df['Title']==title_dic[3]),'Age'] = 10\n",
        "df.loc[(df['Sex']=='male') & (df['Age'].isnull()),'Age'] = df[df['Sex']=='male']['Age'].mean()\n",
        "df.loc[(df['Sex']=='female') & (df['Age'].isnull()),'Age'] = df[df['Sex']=='female']['Age'].mean()\n",
        "#df['Age'] = df['Age'].apply(lambda x : classify_age(x))"
      ],
      "metadata": {
        "id": "qtCZiz6XCjZa"
      },
      "execution_count": 4,
      "outputs": []
    },
    {
      "cell_type": "code",
      "source": [
        "df.loc[df['Fare'].isnull(),'Fare'] = df['Fare'].mean()"
      ],
      "metadata": {
        "id": "tWKvwuJZnWQM"
      },
      "execution_count": 5,
      "outputs": []
    },
    {
      "cell_type": "code",
      "source": [
        "#df['Ncabin'] = df['Cabin'].str.extract('([A-F])', expand=False)\n",
        "#df['Ncabin'] = df['Ncabin'].fillna(\"A\")\n",
        "df.loc[(df['Pclass']==\"1\") & (df['Fare'] > df[df['Pclass']=='1']['Fare'].median()),'Class'] = 'A'\n",
        "df.loc[(df['Pclass']==\"1\") & (df['Fare'] <= df[df['Pclass']=='1']['Fare'].median()),'Class'] = 'B'\n",
        "df.loc[(df['Pclass']==\"2\") & (df['Fare'] > df[df['Pclass']=='2']['Fare'].median()),'Class'] = 'C'\n",
        "df.loc[(df['Pclass']==\"2\") & (df['Fare'] <= df[df['Pclass']=='2']['Fare'].median()),'Class'] = 'D'\n",
        "df.loc[(df['Pclass']==\"3\") & (df['Fare'] > df[df['Pclass']=='3']['Fare'].median()),'Class'] = 'E'\n",
        "df.loc[(df['Pclass']==\"3\") & (df['Fare'] <= df[df['Pclass']=='3']['Fare'].median()),'Class'] = 'F'"
      ],
      "metadata": {
        "id": "bPXUQnRCXPff"
      },
      "execution_count": 6,
      "outputs": []
    },
    {
      "cell_type": "code",
      "source": [
        "df.loc[(df['Pclass']==1) & (df['Cabin'].isnull()),'Cabin'] = 'C'\n",
        "df.loc[(df['Pclass']==2) & (df['Cabin'].isnull()),'Cabin'] = 'N'\n",
        "df.loc[(df['Pclass']==3) & (df['Cabin'].isnull()),'Cabin'] = 'N'\n",
        "df['Ncabin'] = df['Cabin'].str.extract('([A-G])', expand=False)\n",
        "df['Ncabin'] = df['Ncabin'].fillna(\"N\")"
      ],
      "metadata": {
        "id": "P6AvwnIvNxNC"
      },
      "execution_count": 7,
      "outputs": []
    },
    {
      "cell_type": "code",
      "source": [
        "df['Family'] = df['SibSp']+df['Parch']\n",
        "df.loc[df['Family'] > 3,'Family'] = 4\n",
        "df['Family'] = df['Family'].astype('string')"
      ],
      "metadata": {
        "id": "0m1cylAVJoGQ"
      },
      "execution_count": 8,
      "outputs": []
    },
    {
      "cell_type": "code",
      "source": [
        "stscaler.fit(df[['Age','Fare']])\n",
        "scaled = stscaler.transform(df[['Age','Fare']])\n",
        "mmscaler.fit(scaled)\n",
        "output = mmscaler.transform(scaled)\n",
        "output = pd.DataFrame(output, columns=['Age','Fare'])\n",
        "df['Age'] = output['Age']\n",
        "df['Fare'] = output['Fare']\n",
        "#df['Ncabin'] = df['Ncabin'].astype(int)"
      ],
      "metadata": {
        "id": "Ioau9cMNYHpc"
      },
      "execution_count": 9,
      "outputs": []
    },
    {
      "cell_type": "code",
      "source": [
        "df.drop(['PassengerId','Name', 'Ticket', 'SibSp','Parch', 'Sex', 'Cabin', 'Embarked'],axis=1,inplace=True)\n",
        "df.info()"
      ],
      "metadata": {
        "id": "-gxTDT9y9HZa",
        "outputId": "44ae994f-5d1c-4cc0-f2cb-b0807096e9bb",
        "colab": {
          "base_uri": "https://localhost:8080/"
        }
      },
      "execution_count": 10,
      "outputs": [
        {
          "output_type": "stream",
          "name": "stdout",
          "text": [
            "<class 'pandas.core.frame.DataFrame'>\n",
            "RangeIndex: 891 entries, 0 to 890\n",
            "Data columns (total 8 columns):\n",
            " #   Column    Non-Null Count  Dtype  \n",
            "---  ------    --------------  -----  \n",
            " 0   Survived  891 non-null    int64  \n",
            " 1   Pclass    891 non-null    string \n",
            " 2   Age       891 non-null    float64\n",
            " 3   Fare      891 non-null    float64\n",
            " 4   Title     891 non-null    object \n",
            " 5   Class     891 non-null    object \n",
            " 6   Ncabin    891 non-null    object \n",
            " 7   Family    891 non-null    string \n",
            "dtypes: float64(2), int64(1), object(3), string(2)\n",
            "memory usage: 55.8+ KB\n"
          ]
        }
      ]
    },
    {
      "cell_type": "code",
      "source": [
        "#Survive = df.iloc[:,0]\n",
        "#df = pd.get_dummies(df.iloc[:,1:])\n",
        "df = pd.get_dummies(df,drop_first=True)\n",
        "#df = pd.concat([Survive, df],axis=1)\n",
        "df.info()"
      ],
      "metadata": {
        "id": "toWyAxMBQaSP",
        "outputId": "8c25fe3a-9ff7-45a1-fc84-5e87a526aceb",
        "colab": {
          "base_uri": "https://localhost:8080/"
        }
      },
      "execution_count": 11,
      "outputs": [
        {
          "output_type": "stream",
          "name": "stdout",
          "text": [
            "<class 'pandas.core.frame.DataFrame'>\n",
            "RangeIndex: 891 entries, 0 to 890\n",
            "Data columns (total 25 columns):\n",
            " #   Column        Non-Null Count  Dtype  \n",
            "---  ------        --------------  -----  \n",
            " 0   Survived      891 non-null    int64  \n",
            " 1   Age           891 non-null    float64\n",
            " 2   Fare          891 non-null    float64\n",
            " 3   Pclass_2      891 non-null    uint8  \n",
            " 4   Pclass_3      891 non-null    uint8  \n",
            " 5   Title_Master  891 non-null    uint8  \n",
            " 6   Title_Miss    891 non-null    uint8  \n",
            " 7   Title_Mr      891 non-null    uint8  \n",
            " 8   Title_Mrs     891 non-null    uint8  \n",
            " 9   Class_B       891 non-null    uint8  \n",
            " 10  Class_C       891 non-null    uint8  \n",
            " 11  Class_D       891 non-null    uint8  \n",
            " 12  Class_E       891 non-null    uint8  \n",
            " 13  Class_F       891 non-null    uint8  \n",
            " 14  Ncabin_B      891 non-null    uint8  \n",
            " 15  Ncabin_C      891 non-null    uint8  \n",
            " 16  Ncabin_D      891 non-null    uint8  \n",
            " 17  Ncabin_E      891 non-null    uint8  \n",
            " 18  Ncabin_F      891 non-null    uint8  \n",
            " 19  Ncabin_G      891 non-null    uint8  \n",
            " 20  Ncabin_N      891 non-null    uint8  \n",
            " 21  Family_1      891 non-null    uint8  \n",
            " 22  Family_2      891 non-null    uint8  \n",
            " 23  Family_3      891 non-null    uint8  \n",
            " 24  Family_4      891 non-null    uint8  \n",
            "dtypes: float64(2), int64(1), uint8(22)\n",
            "memory usage: 40.2 KB\n"
          ]
        }
      ]
    },
    {
      "cell_type": "code",
      "source": [
        "df.head()"
      ],
      "metadata": {
        "id": "NHZrK0xdny8Q",
        "outputId": "272a3c29-91fc-4ff3-cc68-d9692005f1e2",
        "colab": {
          "base_uri": "https://localhost:8080/",
          "height": 300
        }
      },
      "execution_count": 12,
      "outputs": [
        {
          "output_type": "execute_result",
          "data": {
            "text/plain": [
              "   Survived       Age      Fare  Pclass_2  Pclass_3  Title_Master  Title_Miss  \\\n",
              "0         0  0.271174  0.014151         0         1             0           0   \n",
              "1         1  0.472229  0.139136         0         0             0           0   \n",
              "2         1  0.321438  0.015469         0         1             0           1   \n",
              "3         1  0.434531  0.103644         0         0             0           0   \n",
              "4         0  0.434531  0.015713         0         1             0           0   \n",
              "\n",
              "   Title_Mr  Title_Mrs  Class_B  ...  Ncabin_C  Ncabin_D  Ncabin_E  Ncabin_F  \\\n",
              "0         1          0        0  ...         0         0         0         0   \n",
              "1         0          1        0  ...         1         0         0         0   \n",
              "2         0          0        0  ...         0         0         0         0   \n",
              "3         0          1        1  ...         1         0         0         0   \n",
              "4         1          0        0  ...         0         0         0         0   \n",
              "\n",
              "   Ncabin_G  Ncabin_N  Family_1  Family_2  Family_3  Family_4  \n",
              "0         0         1         1         0         0         0  \n",
              "1         0         0         1         0         0         0  \n",
              "2         0         1         0         0         0         0  \n",
              "3         0         0         1         0         0         0  \n",
              "4         0         1         0         0         0         0  \n",
              "\n",
              "[5 rows x 25 columns]"
            ],
            "text/html": [
              "\n",
              "  <div id=\"df-24577dae-5199-4bc1-a888-b98345966be8\">\n",
              "    <div class=\"colab-df-container\">\n",
              "      <div>\n",
              "<style scoped>\n",
              "    .dataframe tbody tr th:only-of-type {\n",
              "        vertical-align: middle;\n",
              "    }\n",
              "\n",
              "    .dataframe tbody tr th {\n",
              "        vertical-align: top;\n",
              "    }\n",
              "\n",
              "    .dataframe thead th {\n",
              "        text-align: right;\n",
              "    }\n",
              "</style>\n",
              "<table border=\"1\" class=\"dataframe\">\n",
              "  <thead>\n",
              "    <tr style=\"text-align: right;\">\n",
              "      <th></th>\n",
              "      <th>Survived</th>\n",
              "      <th>Age</th>\n",
              "      <th>Fare</th>\n",
              "      <th>Pclass_2</th>\n",
              "      <th>Pclass_3</th>\n",
              "      <th>Title_Master</th>\n",
              "      <th>Title_Miss</th>\n",
              "      <th>Title_Mr</th>\n",
              "      <th>Title_Mrs</th>\n",
              "      <th>Class_B</th>\n",
              "      <th>...</th>\n",
              "      <th>Ncabin_C</th>\n",
              "      <th>Ncabin_D</th>\n",
              "      <th>Ncabin_E</th>\n",
              "      <th>Ncabin_F</th>\n",
              "      <th>Ncabin_G</th>\n",
              "      <th>Ncabin_N</th>\n",
              "      <th>Family_1</th>\n",
              "      <th>Family_2</th>\n",
              "      <th>Family_3</th>\n",
              "      <th>Family_4</th>\n",
              "    </tr>\n",
              "  </thead>\n",
              "  <tbody>\n",
              "    <tr>\n",
              "      <th>0</th>\n",
              "      <td>0</td>\n",
              "      <td>0.271174</td>\n",
              "      <td>0.014151</td>\n",
              "      <td>0</td>\n",
              "      <td>1</td>\n",
              "      <td>0</td>\n",
              "      <td>0</td>\n",
              "      <td>1</td>\n",
              "      <td>0</td>\n",
              "      <td>0</td>\n",
              "      <td>...</td>\n",
              "      <td>0</td>\n",
              "      <td>0</td>\n",
              "      <td>0</td>\n",
              "      <td>0</td>\n",
              "      <td>0</td>\n",
              "      <td>1</td>\n",
              "      <td>1</td>\n",
              "      <td>0</td>\n",
              "      <td>0</td>\n",
              "      <td>0</td>\n",
              "    </tr>\n",
              "    <tr>\n",
              "      <th>1</th>\n",
              "      <td>1</td>\n",
              "      <td>0.472229</td>\n",
              "      <td>0.139136</td>\n",
              "      <td>0</td>\n",
              "      <td>0</td>\n",
              "      <td>0</td>\n",
              "      <td>0</td>\n",
              "      <td>0</td>\n",
              "      <td>1</td>\n",
              "      <td>0</td>\n",
              "      <td>...</td>\n",
              "      <td>1</td>\n",
              "      <td>0</td>\n",
              "      <td>0</td>\n",
              "      <td>0</td>\n",
              "      <td>0</td>\n",
              "      <td>0</td>\n",
              "      <td>1</td>\n",
              "      <td>0</td>\n",
              "      <td>0</td>\n",
              "      <td>0</td>\n",
              "    </tr>\n",
              "    <tr>\n",
              "      <th>2</th>\n",
              "      <td>1</td>\n",
              "      <td>0.321438</td>\n",
              "      <td>0.015469</td>\n",
              "      <td>0</td>\n",
              "      <td>1</td>\n",
              "      <td>0</td>\n",
              "      <td>1</td>\n",
              "      <td>0</td>\n",
              "      <td>0</td>\n",
              "      <td>0</td>\n",
              "      <td>...</td>\n",
              "      <td>0</td>\n",
              "      <td>0</td>\n",
              "      <td>0</td>\n",
              "      <td>0</td>\n",
              "      <td>0</td>\n",
              "      <td>1</td>\n",
              "      <td>0</td>\n",
              "      <td>0</td>\n",
              "      <td>0</td>\n",
              "      <td>0</td>\n",
              "    </tr>\n",
              "    <tr>\n",
              "      <th>3</th>\n",
              "      <td>1</td>\n",
              "      <td>0.434531</td>\n",
              "      <td>0.103644</td>\n",
              "      <td>0</td>\n",
              "      <td>0</td>\n",
              "      <td>0</td>\n",
              "      <td>0</td>\n",
              "      <td>0</td>\n",
              "      <td>1</td>\n",
              "      <td>1</td>\n",
              "      <td>...</td>\n",
              "      <td>1</td>\n",
              "      <td>0</td>\n",
              "      <td>0</td>\n",
              "      <td>0</td>\n",
              "      <td>0</td>\n",
              "      <td>0</td>\n",
              "      <td>1</td>\n",
              "      <td>0</td>\n",
              "      <td>0</td>\n",
              "      <td>0</td>\n",
              "    </tr>\n",
              "    <tr>\n",
              "      <th>4</th>\n",
              "      <td>0</td>\n",
              "      <td>0.434531</td>\n",
              "      <td>0.015713</td>\n",
              "      <td>0</td>\n",
              "      <td>1</td>\n",
              "      <td>0</td>\n",
              "      <td>0</td>\n",
              "      <td>1</td>\n",
              "      <td>0</td>\n",
              "      <td>0</td>\n",
              "      <td>...</td>\n",
              "      <td>0</td>\n",
              "      <td>0</td>\n",
              "      <td>0</td>\n",
              "      <td>0</td>\n",
              "      <td>0</td>\n",
              "      <td>1</td>\n",
              "      <td>0</td>\n",
              "      <td>0</td>\n",
              "      <td>0</td>\n",
              "      <td>0</td>\n",
              "    </tr>\n",
              "  </tbody>\n",
              "</table>\n",
              "<p>5 rows × 25 columns</p>\n",
              "</div>\n",
              "      <button class=\"colab-df-convert\" onclick=\"convertToInteractive('df-24577dae-5199-4bc1-a888-b98345966be8')\"\n",
              "              title=\"Convert this dataframe to an interactive table.\"\n",
              "              style=\"display:none;\">\n",
              "        \n",
              "  <svg xmlns=\"http://www.w3.org/2000/svg\" height=\"24px\"viewBox=\"0 0 24 24\"\n",
              "       width=\"24px\">\n",
              "    <path d=\"M0 0h24v24H0V0z\" fill=\"none\"/>\n",
              "    <path d=\"M18.56 5.44l.94 2.06.94-2.06 2.06-.94-2.06-.94-.94-2.06-.94 2.06-2.06.94zm-11 1L8.5 8.5l.94-2.06 2.06-.94-2.06-.94L8.5 2.5l-.94 2.06-2.06.94zm10 10l.94 2.06.94-2.06 2.06-.94-2.06-.94-.94-2.06-.94 2.06-2.06.94z\"/><path d=\"M17.41 7.96l-1.37-1.37c-.4-.4-.92-.59-1.43-.59-.52 0-1.04.2-1.43.59L10.3 9.45l-7.72 7.72c-.78.78-.78 2.05 0 2.83L4 21.41c.39.39.9.59 1.41.59.51 0 1.02-.2 1.41-.59l7.78-7.78 2.81-2.81c.8-.78.8-2.07 0-2.86zM5.41 20L4 18.59l7.72-7.72 1.47 1.35L5.41 20z\"/>\n",
              "  </svg>\n",
              "      </button>\n",
              "      \n",
              "  <style>\n",
              "    .colab-df-container {\n",
              "      display:flex;\n",
              "      flex-wrap:wrap;\n",
              "      gap: 12px;\n",
              "    }\n",
              "\n",
              "    .colab-df-convert {\n",
              "      background-color: #E8F0FE;\n",
              "      border: none;\n",
              "      border-radius: 50%;\n",
              "      cursor: pointer;\n",
              "      display: none;\n",
              "      fill: #1967D2;\n",
              "      height: 32px;\n",
              "      padding: 0 0 0 0;\n",
              "      width: 32px;\n",
              "    }\n",
              "\n",
              "    .colab-df-convert:hover {\n",
              "      background-color: #E2EBFA;\n",
              "      box-shadow: 0px 1px 2px rgba(60, 64, 67, 0.3), 0px 1px 3px 1px rgba(60, 64, 67, 0.15);\n",
              "      fill: #174EA6;\n",
              "    }\n",
              "\n",
              "    [theme=dark] .colab-df-convert {\n",
              "      background-color: #3B4455;\n",
              "      fill: #D2E3FC;\n",
              "    }\n",
              "\n",
              "    [theme=dark] .colab-df-convert:hover {\n",
              "      background-color: #434B5C;\n",
              "      box-shadow: 0px 1px 3px 1px rgba(0, 0, 0, 0.15);\n",
              "      filter: drop-shadow(0px 1px 2px rgba(0, 0, 0, 0.3));\n",
              "      fill: #FFFFFF;\n",
              "    }\n",
              "  </style>\n",
              "\n",
              "      <script>\n",
              "        const buttonEl =\n",
              "          document.querySelector('#df-24577dae-5199-4bc1-a888-b98345966be8 button.colab-df-convert');\n",
              "        buttonEl.style.display =\n",
              "          google.colab.kernel.accessAllowed ? 'block' : 'none';\n",
              "\n",
              "        async function convertToInteractive(key) {\n",
              "          const element = document.querySelector('#df-24577dae-5199-4bc1-a888-b98345966be8');\n",
              "          const dataTable =\n",
              "            await google.colab.kernel.invokeFunction('convertToInteractive',\n",
              "                                                     [key], {});\n",
              "          if (!dataTable) return;\n",
              "\n",
              "          const docLinkHtml = 'Like what you see? Visit the ' +\n",
              "            '<a target=\"_blank\" href=https://colab.research.google.com/notebooks/data_table.ipynb>data table notebook</a>'\n",
              "            + ' to learn more about interactive tables.';\n",
              "          element.innerHTML = '';\n",
              "          dataTable['output_type'] = 'display_data';\n",
              "          await google.colab.output.renderOutput(dataTable, element);\n",
              "          const docLink = document.createElement('div');\n",
              "          docLink.innerHTML = docLinkHtml;\n",
              "          element.appendChild(docLink);\n",
              "        }\n",
              "      </script>\n",
              "    </div>\n",
              "  </div>\n",
              "  "
            ]
          },
          "metadata": {},
          "execution_count": 12
        }
      ]
    },
    {
      "cell_type": "code",
      "source": [
        "dataset = df.values\n",
        "X = dataset[:,1:]\n",
        "Y = dataset[:,0]\n",
        "n_fold = 10\n",
        "#X_train, X_test, Y_train, Y_test = train_test_split(X, Y, test_size=0.3, random_state=3)\n",
        "skf = StratifiedKFold(n_splits=n_fold, shuffle=True, random_state=seed)\n",
        "accuracy =[]"
      ],
      "metadata": {
        "id": "A7cSl01Slhbe"
      },
      "execution_count": 13,
      "outputs": []
    },
    {
      "cell_type": "code",
      "source": [
        "early_stopping_callback = EarlyStopping(monitor='val_loss', patience=50)\n",
        "for train, test in skf.split(X, Y):\n",
        "    model = Sequential()\n",
        "    model.add(Dense(16, input_dim=24, activation='sigmoid'))\n",
        "    model.add(Dropout(0.25))\n",
        "    model.add(Dense(8, activation='relu'))\n",
        "    model.add(Dropout(0.25))\n",
        "    model.add(Dense(8, activation='relu'))\n",
        "    model.add(Dense(1, activation='sigmoid'))\n",
        "    model.compile(loss='binary_crossentropy',optimizer='adam',metrics=['binary_accuracy'])\n",
        "    model.fit(X[train], Y[train], validation_split=0.2, epochs=100, batch_size=16, callbacks=[early_stopping_callback], verbose=0)\n",
        "    k_accuracy = \"%.4f\" % (model.evaluate(X[test], Y[test])[1])\n",
        "    accuracy.append(float(k_accuracy))\n",
        "print(\"\\n %.f fold mean accuracy:\" % n_fold, sum(accuracy)/n_fold)"
      ],
      "metadata": {
        "id": "g6bwLrKGmZPb",
        "outputId": "72710c3c-85f4-4429-d370-16edaca02a19",
        "colab": {
          "base_uri": "https://localhost:8080/"
        }
      },
      "execution_count": 14,
      "outputs": [
        {
          "output_type": "stream",
          "name": "stdout",
          "text": [
            "3/3 [==============================] - 0s 6ms/step - loss: 0.4377 - binary_accuracy: 0.8333\n",
            "3/3 [==============================] - 0s 4ms/step - loss: 0.4304 - binary_accuracy: 0.7978\n",
            "3/3 [==============================] - 0s 4ms/step - loss: 0.3390 - binary_accuracy: 0.8652\n",
            "3/3 [==============================] - 0s 5ms/step - loss: 0.3597 - binary_accuracy: 0.8652\n",
            "3/3 [==============================] - 0s 4ms/step - loss: 0.4346 - binary_accuracy: 0.8315\n",
            "3/3 [==============================] - 0s 5ms/step - loss: 0.3842 - binary_accuracy: 0.8764\n",
            "3/3 [==============================] - 0s 5ms/step - loss: 0.4646 - binary_accuracy: 0.7978\n",
            "3/3 [==============================] - 0s 6ms/step - loss: 0.4205 - binary_accuracy: 0.8090\n",
            "3/3 [==============================] - 0s 4ms/step - loss: 0.5144 - binary_accuracy: 0.7416\n",
            "3/3 [==============================] - 0s 4ms/step - loss: 0.4425 - binary_accuracy: 0.8202\n",
            "\n",
            " 10 fold mean accuracy: 0.8238\n"
          ]
        }
      ]
    },
    {
      "cell_type": "code",
      "source": [
        "accuracy"
      ],
      "metadata": {
        "id": "ol6cpWWTQ418",
        "outputId": "795f5019-8671-4c5e-a4c5-7d3470f6e758",
        "colab": {
          "base_uri": "https://localhost:8080/"
        }
      },
      "execution_count": 15,
      "outputs": [
        {
          "output_type": "execute_result",
          "data": {
            "text/plain": [
              "[0.8333, 0.7978, 0.8652, 0.8652, 0.8315, 0.8764, 0.7978, 0.809, 0.7416, 0.8202]"
            ]
          },
          "metadata": {},
          "execution_count": 15
        }
      ]
    },
    {
      "cell_type": "code",
      "source": [
        "model = Sequential()\n",
        "model.add(Dense(16, input_dim=24, activation='sigmoid'))\n",
        "model.add(Dropout(0.25))\n",
        "model.add(Dense(8, activation='relu'))\n",
        "model.add(Dropout(0.25))\n",
        "model.add(Dense(8, activation='relu'))\n",
        "model.add(Dense(1, activation='sigmoid'))\n",
        "model.compile(loss='binary_crossentropy',optimizer='adam',metrics=['accuracy'])\n",
        "history = model.fit(X, Y, epochs=100, validation_split=0.2, batch_size=16, verbose=1)"
      ],
      "metadata": {
        "id": "Ta5oADPjFFY5",
        "outputId": "0bbcb78f-e512-4e93-f1ad-60c5423ef074",
        "colab": {
          "base_uri": "https://localhost:8080/"
        }
      },
      "execution_count": 16,
      "outputs": [
        {
          "output_type": "stream",
          "name": "stdout",
          "text": [
            "Epoch 1/100\n",
            "45/45 [==============================] - 1s 7ms/step - loss: 0.7095 - accuracy: 0.4551 - val_loss: 0.6864 - val_accuracy: 0.6648\n",
            "Epoch 2/100\n",
            "45/45 [==============================] - 0s 3ms/step - loss: 0.6804 - accuracy: 0.5927 - val_loss: 0.6621 - val_accuracy: 0.6425\n",
            "Epoch 3/100\n",
            "45/45 [==============================] - 0s 3ms/step - loss: 0.6697 - accuracy: 0.6081 - val_loss: 0.6518 - val_accuracy: 0.6425\n",
            "Epoch 4/100\n",
            "45/45 [==============================] - 0s 4ms/step - loss: 0.6662 - accuracy: 0.6081 - val_loss: 0.6441 - val_accuracy: 0.6425\n",
            "Epoch 5/100\n",
            "45/45 [==============================] - 0s 4ms/step - loss: 0.6532 - accuracy: 0.6081 - val_loss: 0.6340 - val_accuracy: 0.6425\n",
            "Epoch 6/100\n",
            "45/45 [==============================] - 0s 5ms/step - loss: 0.6565 - accuracy: 0.6081 - val_loss: 0.6251 - val_accuracy: 0.6425\n",
            "Epoch 7/100\n",
            "45/45 [==============================] - 0s 4ms/step - loss: 0.6397 - accuracy: 0.6180 - val_loss: 0.6003 - val_accuracy: 0.6425\n",
            "Epoch 8/100\n",
            "45/45 [==============================] - 0s 4ms/step - loss: 0.6294 - accuracy: 0.6250 - val_loss: 0.5781 - val_accuracy: 0.6425\n",
            "Epoch 9/100\n",
            "45/45 [==============================] - 0s 5ms/step - loss: 0.6058 - accuracy: 0.6840 - val_loss: 0.5485 - val_accuracy: 0.8045\n",
            "Epoch 10/100\n",
            "45/45 [==============================] - 0s 5ms/step - loss: 0.5960 - accuracy: 0.6784 - val_loss: 0.5140 - val_accuracy: 0.8212\n",
            "Epoch 11/100\n",
            "45/45 [==============================] - 0s 4ms/step - loss: 0.5737 - accuracy: 0.6980 - val_loss: 0.4837 - val_accuracy: 0.8324\n",
            "Epoch 12/100\n",
            "45/45 [==============================] - 0s 4ms/step - loss: 0.5765 - accuracy: 0.7135 - val_loss: 0.4668 - val_accuracy: 0.8268\n",
            "Epoch 13/100\n",
            "45/45 [==============================] - 0s 4ms/step - loss: 0.5645 - accuracy: 0.7317 - val_loss: 0.4524 - val_accuracy: 0.8268\n",
            "Epoch 14/100\n",
            "45/45 [==============================] - 0s 5ms/step - loss: 0.5273 - accuracy: 0.7542 - val_loss: 0.4336 - val_accuracy: 0.8268\n",
            "Epoch 15/100\n",
            "45/45 [==============================] - 0s 4ms/step - loss: 0.5391 - accuracy: 0.7626 - val_loss: 0.4204 - val_accuracy: 0.8380\n",
            "Epoch 16/100\n",
            "45/45 [==============================] - 0s 5ms/step - loss: 0.5416 - accuracy: 0.7528 - val_loss: 0.4177 - val_accuracy: 0.8324\n",
            "Epoch 17/100\n",
            "45/45 [==============================] - 0s 3ms/step - loss: 0.5069 - accuracy: 0.7753 - val_loss: 0.4048 - val_accuracy: 0.8268\n",
            "Epoch 18/100\n",
            "45/45 [==============================] - 0s 3ms/step - loss: 0.5060 - accuracy: 0.7823 - val_loss: 0.3965 - val_accuracy: 0.8268\n",
            "Epoch 19/100\n",
            "45/45 [==============================] - 0s 3ms/step - loss: 0.5070 - accuracy: 0.7584 - val_loss: 0.3968 - val_accuracy: 0.8324\n",
            "Epoch 20/100\n",
            "45/45 [==============================] - 0s 3ms/step - loss: 0.5005 - accuracy: 0.7823 - val_loss: 0.3970 - val_accuracy: 0.8324\n",
            "Epoch 21/100\n",
            "45/45 [==============================] - 0s 3ms/step - loss: 0.5006 - accuracy: 0.7851 - val_loss: 0.3946 - val_accuracy: 0.8380\n",
            "Epoch 22/100\n",
            "45/45 [==============================] - 0s 3ms/step - loss: 0.4868 - accuracy: 0.7809 - val_loss: 0.3921 - val_accuracy: 0.8324\n",
            "Epoch 23/100\n",
            "45/45 [==============================] - 0s 3ms/step - loss: 0.4787 - accuracy: 0.7963 - val_loss: 0.3887 - val_accuracy: 0.8436\n",
            "Epoch 24/100\n",
            "45/45 [==============================] - 0s 3ms/step - loss: 0.4648 - accuracy: 0.8048 - val_loss: 0.3809 - val_accuracy: 0.8380\n",
            "Epoch 25/100\n",
            "45/45 [==============================] - 0s 3ms/step - loss: 0.4844 - accuracy: 0.7949 - val_loss: 0.3826 - val_accuracy: 0.8324\n",
            "Epoch 26/100\n",
            "45/45 [==============================] - 0s 3ms/step - loss: 0.4858 - accuracy: 0.8034 - val_loss: 0.3863 - val_accuracy: 0.8324\n",
            "Epoch 27/100\n",
            "45/45 [==============================] - 0s 3ms/step - loss: 0.4747 - accuracy: 0.8104 - val_loss: 0.3855 - val_accuracy: 0.8380\n",
            "Epoch 28/100\n",
            "45/45 [==============================] - 0s 3ms/step - loss: 0.4579 - accuracy: 0.7978 - val_loss: 0.3811 - val_accuracy: 0.8380\n",
            "Epoch 29/100\n",
            "45/45 [==============================] - 0s 3ms/step - loss: 0.4769 - accuracy: 0.7992 - val_loss: 0.3812 - val_accuracy: 0.8380\n",
            "Epoch 30/100\n",
            "45/45 [==============================] - 0s 3ms/step - loss: 0.4826 - accuracy: 0.7851 - val_loss: 0.3847 - val_accuracy: 0.8380\n",
            "Epoch 31/100\n",
            "45/45 [==============================] - 0s 3ms/step - loss: 0.4577 - accuracy: 0.8062 - val_loss: 0.3846 - val_accuracy: 0.8380\n",
            "Epoch 32/100\n",
            "45/45 [==============================] - 0s 3ms/step - loss: 0.4702 - accuracy: 0.8048 - val_loss: 0.3810 - val_accuracy: 0.8268\n",
            "Epoch 33/100\n",
            "45/45 [==============================] - 0s 3ms/step - loss: 0.4764 - accuracy: 0.7963 - val_loss: 0.3836 - val_accuracy: 0.8268\n",
            "Epoch 34/100\n",
            "45/45 [==============================] - 0s 3ms/step - loss: 0.4659 - accuracy: 0.8034 - val_loss: 0.3826 - val_accuracy: 0.8324\n",
            "Epoch 35/100\n",
            "45/45 [==============================] - 0s 3ms/step - loss: 0.4525 - accuracy: 0.8048 - val_loss: 0.3816 - val_accuracy: 0.8380\n",
            "Epoch 36/100\n",
            "45/45 [==============================] - 0s 3ms/step - loss: 0.4610 - accuracy: 0.7893 - val_loss: 0.3771 - val_accuracy: 0.8436\n",
            "Epoch 37/100\n",
            "45/45 [==============================] - 0s 3ms/step - loss: 0.4619 - accuracy: 0.8090 - val_loss: 0.3830 - val_accuracy: 0.8436\n",
            "Epoch 38/100\n",
            "45/45 [==============================] - 0s 3ms/step - loss: 0.4615 - accuracy: 0.8034 - val_loss: 0.3794 - val_accuracy: 0.8324\n",
            "Epoch 39/100\n",
            "45/45 [==============================] - 0s 3ms/step - loss: 0.4593 - accuracy: 0.7963 - val_loss: 0.3773 - val_accuracy: 0.8324\n",
            "Epoch 40/100\n",
            "45/45 [==============================] - 0s 3ms/step - loss: 0.4677 - accuracy: 0.8160 - val_loss: 0.3793 - val_accuracy: 0.8324\n",
            "Epoch 41/100\n",
            "45/45 [==============================] - 0s 3ms/step - loss: 0.4577 - accuracy: 0.8090 - val_loss: 0.3769 - val_accuracy: 0.8324\n",
            "Epoch 42/100\n",
            "45/45 [==============================] - 0s 3ms/step - loss: 0.4639 - accuracy: 0.8020 - val_loss: 0.3807 - val_accuracy: 0.8324\n",
            "Epoch 43/100\n",
            "45/45 [==============================] - 0s 3ms/step - loss: 0.4443 - accuracy: 0.8174 - val_loss: 0.3741 - val_accuracy: 0.8324\n",
            "Epoch 44/100\n",
            "45/45 [==============================] - 0s 3ms/step - loss: 0.4545 - accuracy: 0.8076 - val_loss: 0.3777 - val_accuracy: 0.8324\n",
            "Epoch 45/100\n",
            "45/45 [==============================] - 0s 3ms/step - loss: 0.4553 - accuracy: 0.8104 - val_loss: 0.3765 - val_accuracy: 0.8324\n",
            "Epoch 46/100\n",
            "45/45 [==============================] - 0s 3ms/step - loss: 0.4503 - accuracy: 0.8020 - val_loss: 0.3759 - val_accuracy: 0.8380\n",
            "Epoch 47/100\n",
            "45/45 [==============================] - 0s 3ms/step - loss: 0.4637 - accuracy: 0.8146 - val_loss: 0.3773 - val_accuracy: 0.8380\n",
            "Epoch 48/100\n",
            "45/45 [==============================] - 0s 3ms/step - loss: 0.4548 - accuracy: 0.8076 - val_loss: 0.3751 - val_accuracy: 0.8380\n",
            "Epoch 49/100\n",
            "45/45 [==============================] - 0s 3ms/step - loss: 0.4395 - accuracy: 0.8160 - val_loss: 0.3747 - val_accuracy: 0.8380\n",
            "Epoch 50/100\n",
            "45/45 [==============================] - 0s 3ms/step - loss: 0.4460 - accuracy: 0.8034 - val_loss: 0.3730 - val_accuracy: 0.8380\n",
            "Epoch 51/100\n",
            "45/45 [==============================] - 0s 3ms/step - loss: 0.4566 - accuracy: 0.8216 - val_loss: 0.3715 - val_accuracy: 0.8380\n",
            "Epoch 52/100\n",
            "45/45 [==============================] - 0s 3ms/step - loss: 0.4574 - accuracy: 0.8216 - val_loss: 0.3772 - val_accuracy: 0.8380\n",
            "Epoch 53/100\n",
            "45/45 [==============================] - 0s 3ms/step - loss: 0.4572 - accuracy: 0.8132 - val_loss: 0.3764 - val_accuracy: 0.8380\n",
            "Epoch 54/100\n",
            "45/45 [==============================] - 0s 3ms/step - loss: 0.4451 - accuracy: 0.8329 - val_loss: 0.3771 - val_accuracy: 0.8436\n",
            "Epoch 55/100\n",
            "45/45 [==============================] - 0s 3ms/step - loss: 0.4531 - accuracy: 0.8118 - val_loss: 0.3761 - val_accuracy: 0.8380\n",
            "Epoch 56/100\n",
            "45/45 [==============================] - 0s 3ms/step - loss: 0.4503 - accuracy: 0.8230 - val_loss: 0.3753 - val_accuracy: 0.8492\n",
            "Epoch 57/100\n",
            "45/45 [==============================] - 0s 3ms/step - loss: 0.4512 - accuracy: 0.8090 - val_loss: 0.3722 - val_accuracy: 0.8380\n",
            "Epoch 58/100\n",
            "45/45 [==============================] - 0s 3ms/step - loss: 0.4403 - accuracy: 0.8160 - val_loss: 0.3696 - val_accuracy: 0.8380\n",
            "Epoch 59/100\n",
            "45/45 [==============================] - 0s 3ms/step - loss: 0.4701 - accuracy: 0.8034 - val_loss: 0.3732 - val_accuracy: 0.8380\n",
            "Epoch 60/100\n",
            "45/45 [==============================] - 0s 3ms/step - loss: 0.4357 - accuracy: 0.8146 - val_loss: 0.3748 - val_accuracy: 0.8380\n",
            "Epoch 61/100\n",
            "45/45 [==============================] - 0s 3ms/step - loss: 0.4528 - accuracy: 0.8132 - val_loss: 0.3743 - val_accuracy: 0.8380\n",
            "Epoch 62/100\n",
            "45/45 [==============================] - 0s 3ms/step - loss: 0.4514 - accuracy: 0.8287 - val_loss: 0.3735 - val_accuracy: 0.8492\n",
            "Epoch 63/100\n",
            "45/45 [==============================] - 0s 3ms/step - loss: 0.4345 - accuracy: 0.8301 - val_loss: 0.3701 - val_accuracy: 0.8380\n",
            "Epoch 64/100\n",
            "45/45 [==============================] - 0s 3ms/step - loss: 0.4545 - accuracy: 0.8202 - val_loss: 0.3707 - val_accuracy: 0.8436\n",
            "Epoch 65/100\n",
            "45/45 [==============================] - 0s 3ms/step - loss: 0.4483 - accuracy: 0.8132 - val_loss: 0.3726 - val_accuracy: 0.8436\n",
            "Epoch 66/100\n",
            "45/45 [==============================] - 0s 3ms/step - loss: 0.4483 - accuracy: 0.8160 - val_loss: 0.3705 - val_accuracy: 0.8380\n",
            "Epoch 67/100\n",
            "45/45 [==============================] - 0s 3ms/step - loss: 0.4480 - accuracy: 0.8160 - val_loss: 0.3710 - val_accuracy: 0.8380\n",
            "Epoch 68/100\n",
            "45/45 [==============================] - 0s 3ms/step - loss: 0.4341 - accuracy: 0.8188 - val_loss: 0.3691 - val_accuracy: 0.8380\n",
            "Epoch 69/100\n",
            "45/45 [==============================] - 0s 3ms/step - loss: 0.4364 - accuracy: 0.8202 - val_loss: 0.3718 - val_accuracy: 0.8436\n",
            "Epoch 70/100\n",
            "45/45 [==============================] - 0s 3ms/step - loss: 0.4465 - accuracy: 0.8020 - val_loss: 0.3717 - val_accuracy: 0.8492\n",
            "Epoch 71/100\n",
            "45/45 [==============================] - 0s 3ms/step - loss: 0.4317 - accuracy: 0.8244 - val_loss: 0.3684 - val_accuracy: 0.8380\n",
            "Epoch 72/100\n",
            "45/45 [==============================] - 0s 3ms/step - loss: 0.4300 - accuracy: 0.8244 - val_loss: 0.3669 - val_accuracy: 0.8380\n",
            "Epoch 73/100\n",
            "45/45 [==============================] - 0s 3ms/step - loss: 0.4355 - accuracy: 0.8216 - val_loss: 0.3689 - val_accuracy: 0.8436\n",
            "Epoch 74/100\n",
            "45/45 [==============================] - 0s 3ms/step - loss: 0.4097 - accuracy: 0.8160 - val_loss: 0.3680 - val_accuracy: 0.8436\n",
            "Epoch 75/100\n",
            "45/45 [==============================] - 0s 3ms/step - loss: 0.4327 - accuracy: 0.8244 - val_loss: 0.3651 - val_accuracy: 0.8436\n",
            "Epoch 76/100\n",
            "45/45 [==============================] - 0s 3ms/step - loss: 0.4392 - accuracy: 0.8188 - val_loss: 0.3650 - val_accuracy: 0.8436\n",
            "Epoch 77/100\n",
            "45/45 [==============================] - 0s 3ms/step - loss: 0.4369 - accuracy: 0.8216 - val_loss: 0.3671 - val_accuracy: 0.8436\n",
            "Epoch 78/100\n",
            "45/45 [==============================] - 0s 3ms/step - loss: 0.4520 - accuracy: 0.8188 - val_loss: 0.3670 - val_accuracy: 0.8380\n",
            "Epoch 79/100\n",
            "45/45 [==============================] - 0s 3ms/step - loss: 0.4473 - accuracy: 0.8174 - val_loss: 0.3698 - val_accuracy: 0.8380\n",
            "Epoch 80/100\n",
            "45/45 [==============================] - 0s 3ms/step - loss: 0.4495 - accuracy: 0.8118 - val_loss: 0.3707 - val_accuracy: 0.8436\n",
            "Epoch 81/100\n",
            "45/45 [==============================] - 0s 3ms/step - loss: 0.4228 - accuracy: 0.8146 - val_loss: 0.3638 - val_accuracy: 0.8436\n",
            "Epoch 82/100\n",
            "45/45 [==============================] - 0s 3ms/step - loss: 0.4365 - accuracy: 0.8090 - val_loss: 0.3637 - val_accuracy: 0.8436\n",
            "Epoch 83/100\n",
            "45/45 [==============================] - 0s 3ms/step - loss: 0.4411 - accuracy: 0.8329 - val_loss: 0.3633 - val_accuracy: 0.8380\n",
            "Epoch 84/100\n",
            "45/45 [==============================] - 0s 3ms/step - loss: 0.4306 - accuracy: 0.8160 - val_loss: 0.3623 - val_accuracy: 0.8436\n",
            "Epoch 85/100\n",
            "45/45 [==============================] - 0s 3ms/step - loss: 0.4419 - accuracy: 0.8230 - val_loss: 0.3620 - val_accuracy: 0.8436\n",
            "Epoch 86/100\n",
            "45/45 [==============================] - 0s 3ms/step - loss: 0.4293 - accuracy: 0.8244 - val_loss: 0.3664 - val_accuracy: 0.8380\n",
            "Epoch 87/100\n",
            "45/45 [==============================] - 0s 3ms/step - loss: 0.4325 - accuracy: 0.8174 - val_loss: 0.3661 - val_accuracy: 0.8436\n",
            "Epoch 88/100\n",
            "45/45 [==============================] - 0s 5ms/step - loss: 0.4351 - accuracy: 0.8118 - val_loss: 0.3671 - val_accuracy: 0.8436\n",
            "Epoch 89/100\n",
            "45/45 [==============================] - 0s 5ms/step - loss: 0.4403 - accuracy: 0.8174 - val_loss: 0.3663 - val_accuracy: 0.8436\n",
            "Epoch 90/100\n",
            "45/45 [==============================] - 0s 4ms/step - loss: 0.4229 - accuracy: 0.8272 - val_loss: 0.3644 - val_accuracy: 0.8436\n",
            "Epoch 91/100\n",
            "45/45 [==============================] - 0s 4ms/step - loss: 0.4374 - accuracy: 0.8090 - val_loss: 0.3658 - val_accuracy: 0.8492\n",
            "Epoch 92/100\n",
            "45/45 [==============================] - 0s 4ms/step - loss: 0.4435 - accuracy: 0.8118 - val_loss: 0.3642 - val_accuracy: 0.8380\n",
            "Epoch 93/100\n",
            "45/45 [==============================] - 0s 5ms/step - loss: 0.4360 - accuracy: 0.8076 - val_loss: 0.3639 - val_accuracy: 0.8436\n",
            "Epoch 94/100\n",
            "45/45 [==============================] - 0s 5ms/step - loss: 0.4287 - accuracy: 0.8244 - val_loss: 0.3640 - val_accuracy: 0.8436\n",
            "Epoch 95/100\n",
            "45/45 [==============================] - 0s 4ms/step - loss: 0.4315 - accuracy: 0.8258 - val_loss: 0.3658 - val_accuracy: 0.8436\n",
            "Epoch 96/100\n",
            "45/45 [==============================] - 0s 4ms/step - loss: 0.4325 - accuracy: 0.8216 - val_loss: 0.3650 - val_accuracy: 0.8436\n",
            "Epoch 97/100\n",
            "45/45 [==============================] - 0s 4ms/step - loss: 0.4422 - accuracy: 0.8202 - val_loss: 0.3648 - val_accuracy: 0.8380\n",
            "Epoch 98/100\n",
            "45/45 [==============================] - 0s 5ms/step - loss: 0.4339 - accuracy: 0.8202 - val_loss: 0.3657 - val_accuracy: 0.8492\n",
            "Epoch 99/100\n",
            "45/45 [==============================] - 0s 4ms/step - loss: 0.4374 - accuracy: 0.8216 - val_loss: 0.3662 - val_accuracy: 0.8492\n",
            "Epoch 100/100\n",
            "45/45 [==============================] - 0s 5ms/step - loss: 0.4391 - accuracy: 0.8076 - val_loss: 0.3686 - val_accuracy: 0.8436\n"
          ]
        }
      ]
    },
    {
      "cell_type": "code",
      "source": [
        "model_vloss = history.history['val_loss'][1:]\n",
        "model_loss = history.history['loss'][1:]\n",
        "model_accuracy = history.history['accuracy'][1:]\n",
        "model_vaccuracy = history.history['val_accuracy'][1:]\n",
        "x_len = np.arange(len(model_loss))\n",
        "\n",
        "plt.plot(x_len, model_vloss, \"-\", c=\"DarkOrange\", markersize=3, label=\"vloss\")\n",
        "plt.plot(x_len, model_loss, \"--\", c=\"DarkOrange\", markersize=3, label=\"loss\")\n",
        "plt.plot(x_len, model_vaccuracy, \"-\", c=\"DodgerBlue\", markersize=3, label=\"vacc\")\n",
        "plt.plot(x_len, model_accuracy, \"--\", c=\"DodgerBlue\", markersize=3, label=\"acc\")\n",
        "plt.legend()\n",
        "plt.show()"
      ],
      "metadata": {
        "id": "mlAc76SinTNY",
        "outputId": "351ba845-a7ee-4ba8-915f-f09a0a181990",
        "colab": {
          "base_uri": "https://localhost:8080/",
          "height": 430
        }
      },
      "execution_count": 17,
      "outputs": [
        {
          "output_type": "display_data",
          "data": {
            "text/plain": [
              "<Figure size 640x480 with 1 Axes>"
            ],
            "image/png": "[encoded data removed]"
          },
          "metadata": {}
        }
      ]
    },
    {
      "cell_type": "code",
      "source": [
        "model.save('please.h5')"
      ],
      "metadata": {
        "id": "AN78no17PKTF"
      },
      "execution_count": null,
      "outputs": []
    },
    {
      "cell_type": "code",
      "source": [
        "model = load_model('please.h5')\n",
        "Y_prediction = model.predict(dataset).flatten()\n"
      ],
      "metadata": {
        "id": "6VyEF8W-PHJ4"
      },
      "execution_count": null,
      "outputs": []
    },
    {
      "cell_type": "code",
      "source": [
        "submission = pd.read_csv('gender_submission.csv')\n",
        "submission['Survived'] = Y_prediction[891:]\n",
        "submission.loc[submission['Survived'] < 0.5 ,'Survived'] = 0\n",
        "submission.loc[submission['Survived'] >= 0.5 ,'Survived'] = 1\n",
        "submission['Survived'] = submission['Survived'].astype(int)\n",
        "submission.to_csv('sub.csv',index=False)"
      ],
      "metadata": {
        "id": "Nr7y66PNPImW"
      },
      "execution_count": null,
      "outputs": []
    }
  ]
}