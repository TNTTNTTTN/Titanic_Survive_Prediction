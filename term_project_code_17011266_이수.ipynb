{
  "nbformat": 4,
  "nbformat_minor": 0,
  "metadata": {
    "colab": {
      "provenance": [],
      "authorship_tag": "ABX9TyPx+j4PkeCLFyVqERfuVPZB",
      "include_colab_link": true
    },
    "kernelspec": {
      "name": "python3",
      "display_name": "Python 3"
    },
    "language_info": {
      "name": "python"
    }
  },
  "cells": [
    {
      "cell_type": "markdown",
      "metadata": {
        "id": "view-in-github",
        "colab_type": "text"
      },
      "source": [
        "<a href=\"https://colab.research.google.com/github/TNTTNTTTN/Titanic_Survive_Prediction/blob/main/term_project_code_17011266_%EC%9D%B4%EC%88%98.ipynb\" target=\"_parent\"><img src=\"https://colab.research.google.com/assets/colab-badge.svg\" alt=\"Open In Colab\"/></a>"
      ]
    },
    {
      "cell_type": "code",
      "execution_count": 835,
      "metadata": {
        "colab": {
          "base_uri": "https://localhost:8080/"
        },
        "id": "cB_zyD5x-ao2",
        "outputId": "a8a9d718-63af-4dcb-fc21-5f71c286573d"
      },
      "outputs": [
        {
          "output_type": "stream",
          "name": "stdout",
          "text": [
            "<class 'pandas.core.frame.DataFrame'>\n",
            "Int64Index: 1309 entries, 0 to 417\n",
            "Data columns (total 11 columns):\n",
            " #   Column       Non-Null Count  Dtype  \n",
            "---  ------       --------------  -----  \n",
            " 0   PassengerId  1309 non-null   int64  \n",
            " 1   Pclass       1309 non-null   int64  \n",
            " 2   Name         1309 non-null   object \n",
            " 3   Sex          1309 non-null   object \n",
            " 4   Age          1046 non-null   float64\n",
            " 5   SibSp        1309 non-null   int64  \n",
            " 6   Parch        1309 non-null   int64  \n",
            " 7   Ticket       1309 non-null   object \n",
            " 8   Fare         1308 non-null   float64\n",
            " 9   Cabin        295 non-null    object \n",
            " 10  Embarked     1307 non-null   object \n",
            "dtypes: float64(2), int64(4), object(5)\n",
            "memory usage: 122.7+ KB\n"
          ]
        }
      ],
      "source": [
        "#-*- coding: utf-8 -*-\n",
        "from keras.models import Sequential, load_model\n",
        "from keras.layers import Dense, Dropout\n",
        "from sklearn.model_selection import train_test_split, StratifiedKFold\n",
        "from sklearn.preprocessing import MinMaxScaler, StandardScaler, LabelEncoder\n",
        "from keras.callbacks import EarlyStopping\n",
        "\n",
        "import numpy as np\n",
        "import pandas as pd\n",
        "import tensorflow as tf\n",
        "import matplotlib.pyplot as plt\n",
        "import seaborn as sns\n",
        "\n",
        "seed = 3\n",
        "np.random.seed(seed)\n",
        "tf.random.set_seed(seed)\n",
        "\n",
        "df1 = pd.read_csv(\"/content/train.csv\")\n",
        "#df2 = pd.read_csv(\"/content/test.csv\")\n",
        "df1.drop(labels='Survived', axis=1, inplace=True)\n",
        "df = pd.concat([df1, df2[:]], axis=0)\n",
        "stscaler = StandardScaler()\n",
        "mmscaler = MinMaxScaler()\n",
        "df.info()"
      ]
    },
    {
      "cell_type": "code",
      "source": [
        "def get_title(Name):\n",
        "  if 'Mrs' in Name or 'Mme' in Name :\n",
        "    Title='Mrs'\n",
        "  elif 'Mr' in Name or 'Sir' in Name :\n",
        "    Title='Mr'\n",
        "  elif 'Miss' in Name or 'Ms' in Name or 'Mlle' in Name:\n",
        "    Title='Miss'\n",
        "  elif 'Master' in Name:\n",
        "    Title='Master'\n",
        "  else:\n",
        "    Title='Else'\n",
        "  return Title"
      ],
      "metadata": {
        "id": "UW5mHZHE4fEj"
      },
      "execution_count": 836,
      "outputs": []
    },
    {
      "cell_type": "code",
      "source": [
        "def classify_age(Age):\n",
        "  if Age<=10 : tag =\"0\"\n",
        "  elif Age <=20 : tag=\"1\"\n",
        "  elif Age <= 30 : tag=\"2\"\n",
        "  elif Age <= 40 : tag=\"3\"\n",
        "  elif Age <= 50 : tag=\"4\"\n",
        "  elif Age <= 60 : tag =\"5\"\n",
        "  else : tag = \"6\"\n",
        "  return tag"
      ],
      "metadata": {
        "id": "U3GGrlfzr0kf"
      },
      "execution_count": 837,
      "outputs": []
    },
    {
      "cell_type": "code",
      "source": [
        "def classify_fare(Fare):\n",
        "  if Fare <= 75 : tag=\"0\"\n",
        "  elif Fare <= 150 : tag=\"\"\n",
        "  elif Fare <= 225 : tag=\"2\"\n",
        "  elif Fare <= 300 : tag=\"3\"\n",
        "  elif Fare <= 375 : tag=\"4\"\n",
        "  elif Fare <= 450 : tag=\"5\"\n",
        "  else : tag = \"6\"\n",
        "  return tag"
      ],
      "metadata": {
        "id": "_5kZXhuHwUQ0"
      },
      "execution_count": 838,
      "outputs": []
    },
    {
      "cell_type": "code",
      "source": [
        "df['Title'] = df['Name'].apply(lambda x : get_title(x))\n",
        "df['Pclass'] = df['Pclass'].astype('string')\n",
        "title_dic = {0:\"Mrs\", 1:\"Mr\", 2:\"Miss\", 3:\"Master\", 4:\"Else\"}\n",
        "#df['Title'] = df['Title'].map(title_dic).astype(int).fillna(0)"
      ],
      "metadata": {
        "id": "rH-Oxktgsbza"
      },
      "execution_count": 839,
      "outputs": []
    },
    {
      "cell_type": "code",
      "source": [
        "df[df['Title']==3]"
      ],
      "metadata": {
        "id": "MsBAYx7zUwI8",
        "outputId": "572ca2fc-bf25-49a4-9f36-9acc367bcf61",
        "colab": {
          "base_uri": "https://localhost:8080/",
          "height": 49
        }
      },
      "execution_count": 840,
      "outputs": [
        {
          "output_type": "execute_result",
          "data": {
            "text/plain": [
              "Empty DataFrame\n",
              "Columns: [PassengerId, Pclass, Name, Sex, Age, SibSp, Parch, Ticket, Fare, Cabin, Embarked, Title]\n",
              "Index: []"
            ],
            "text/html": [
              "\n",
              "  <div id=\"df-802b88e9-1d6c-4ea8-9818-447695452317\">\n",
              "    <div class=\"colab-df-container\">\n",
              "      <div>\n",
              "<style scoped>\n",
              "    .dataframe tbody tr th:only-of-type {\n",
              "        vertical-align: middle;\n",
              "    }\n",
              "\n",
              "    .dataframe tbody tr th {\n",
              "        vertical-align: top;\n",
              "    }\n",
              "\n",
              "    .dataframe thead th {\n",
              "        text-align: right;\n",
              "    }\n",
              "</style>\n",
              "<table border=\"1\" class=\"dataframe\">\n",
              "  <thead>\n",
              "    <tr style=\"text-align: right;\">\n",
              "      <th></th>\n",
              "      <th>PassengerId</th>\n",
              "      <th>Pclass</th>\n",
              "      <th>Name</th>\n",
              "      <th>Sex</th>\n",
              "      <th>Age</th>\n",
              "      <th>SibSp</th>\n",
              "      <th>Parch</th>\n",
              "      <th>Ticket</th>\n",
              "      <th>Fare</th>\n",
              "      <th>Cabin</th>\n",
              "      <th>Embarked</th>\n",
              "      <th>Title</th>\n",
              "    </tr>\n",
              "  </thead>\n",
              "  <tbody>\n",
              "  </tbody>\n",
              "</table>\n",
              "</div>\n",
              "      <button class=\"colab-df-convert\" onclick=\"convertToInteractive('df-802b88e9-1d6c-4ea8-9818-447695452317')\"\n",
              "              title=\"Convert this dataframe to an interactive table.\"\n",
              "              style=\"display:none;\">\n",
              "        \n",
              "  <svg xmlns=\"http://www.w3.org/2000/svg\" height=\"24px\"viewBox=\"0 0 24 24\"\n",
              "       width=\"24px\">\n",
              "    <path d=\"M0 0h24v24H0V0z\" fill=\"none\"/>\n",
              "    <path d=\"M18.56 5.44l.94 2.06.94-2.06 2.06-.94-2.06-.94-.94-2.06-.94 2.06-2.06.94zm-11 1L8.5 8.5l.94-2.06 2.06-.94-2.06-.94L8.5 2.5l-.94 2.06-2.06.94zm10 10l.94 2.06.94-2.06 2.06-.94-2.06-.94-.94-2.06-.94 2.06-2.06.94z\"/><path d=\"M17.41 7.96l-1.37-1.37c-.4-.4-.92-.59-1.43-.59-.52 0-1.04.2-1.43.59L10.3 9.45l-7.72 7.72c-.78.78-.78 2.05 0 2.83L4 21.41c.39.39.9.59 1.41.59.51 0 1.02-.2 1.41-.59l7.78-7.78 2.81-2.81c.8-.78.8-2.07 0-2.86zM5.41 20L4 18.59l7.72-7.72 1.47 1.35L5.41 20z\"/>\n",
              "  </svg>\n",
              "      </button>\n",
              "      \n",
              "  <style>\n",
              "    .colab-df-container {\n",
              "      display:flex;\n",
              "      flex-wrap:wrap;\n",
              "      gap: 12px;\n",
              "    }\n",
              "\n",
              "    .colab-df-convert {\n",
              "      background-color: #E8F0FE;\n",
              "      border: none;\n",
              "      border-radius: 50%;\n",
              "      cursor: pointer;\n",
              "      display: none;\n",
              "      fill: #1967D2;\n",
              "      height: 32px;\n",
              "      padding: 0 0 0 0;\n",
              "      width: 32px;\n",
              "    }\n",
              "\n",
              "    .colab-df-convert:hover {\n",
              "      background-color: #E2EBFA;\n",
              "      box-shadow: 0px 1px 2px rgba(60, 64, 67, 0.3), 0px 1px 3px 1px rgba(60, 64, 67, 0.15);\n",
              "      fill: #174EA6;\n",
              "    }\n",
              "\n",
              "    [theme=dark] .colab-df-convert {\n",
              "      background-color: #3B4455;\n",
              "      fill: #D2E3FC;\n",
              "    }\n",
              "\n",
              "    [theme=dark] .colab-df-convert:hover {\n",
              "      background-color: #434B5C;\n",
              "      box-shadow: 0px 1px 3px 1px rgba(0, 0, 0, 0.15);\n",
              "      filter: drop-shadow(0px 1px 2px rgba(0, 0, 0, 0.3));\n",
              "      fill: #FFFFFF;\n",
              "    }\n",
              "  </style>\n",
              "\n",
              "      <script>\n",
              "        const buttonEl =\n",
              "          document.querySelector('#df-802b88e9-1d6c-4ea8-9818-447695452317 button.colab-df-convert');\n",
              "        buttonEl.style.display =\n",
              "          google.colab.kernel.accessAllowed ? 'block' : 'none';\n",
              "\n",
              "        async function convertToInteractive(key) {\n",
              "          const element = document.querySelector('#df-802b88e9-1d6c-4ea8-9818-447695452317');\n",
              "          const dataTable =\n",
              "            await google.colab.kernel.invokeFunction('convertToInteractive',\n",
              "                                                     [key], {});\n",
              "          if (!dataTable) return;\n",
              "\n",
              "          const docLinkHtml = 'Like what you see? Visit the ' +\n",
              "            '<a target=\"_blank\" href=https://colab.research.google.com/notebooks/data_table.ipynb>data table notebook</a>'\n",
              "            + ' to learn more about interactive tables.';\n",
              "          element.innerHTML = '';\n",
              "          dataTable['output_type'] = 'display_data';\n",
              "          await google.colab.output.renderOutput(dataTable, element);\n",
              "          const docLink = document.createElement('div');\n",
              "          docLink.innerHTML = docLinkHtml;\n",
              "          element.appendChild(docLink);\n",
              "        }\n",
              "      </script>\n",
              "    </div>\n",
              "  </div>\n",
              "  "
            ]
          },
          "metadata": {},
          "execution_count": 840
        }
      ]
    },
    {
      "cell_type": "code",
      "source": [
        "#df['Sex'] = df['Sex'].map({'male':0, 'female':1}).astype(int)\n",
        "df.loc[(df['Sex']=='male') & (df['Age'].isnull()) & (df['Title']==title_dic[3]),'Age'] = 10\n",
        "df.loc[(df['Sex']=='male') & (df['Age'].isnull()),'Age'] = df[df['Sex']=='male']['Age'].mean()\n",
        "df.loc[(df['Sex']=='female') & (df['Age'].isnull()),'Age'] = df[df['Sex']=='female']['Age'].mean()\n",
        "#df['Age'] = df['Age'].apply(lambda x : classify_age(x))"
      ],
      "metadata": {
        "id": "qtCZiz6XCjZa"
      },
      "execution_count": 841,
      "outputs": []
    },
    {
      "cell_type": "code",
      "source": [
        "df.loc[df['Fare'].isnull(),'Fare'] = df['Fare'].mean()"
      ],
      "metadata": {
        "id": "tWKvwuJZnWQM"
      },
      "execution_count": 842,
      "outputs": []
    },
    {
      "cell_type": "code",
      "source": [
        "#df['Ncabin'] = df['Cabin'].str.extract('([A-F])', expand=False)\n",
        "#df['Ncabin'] = df['Ncabin'].fillna(\"A\")\n",
        "df.loc[(df['Pclass']==\"1\") & (df['Fare'] > df[df['Pclass']=='1']['Fare'].median()),'Class'] = 'A'\n",
        "df.loc[(df['Pclass']==\"1\") & (df['Fare'] <= df[df['Pclass']=='1']['Fare'].median()),'Class'] = 'B'\n",
        "df.loc[(df['Pclass']==\"2\") & (df['Fare'] > df[df['Pclass']=='2']['Fare'].median()),'Class'] = 'C'\n",
        "df.loc[(df['Pclass']==\"2\") & (df['Fare'] <= df[df['Pclass']=='2']['Fare'].median()),'Class'] = 'D'\n",
        "df.loc[(df['Pclass']==\"3\") & (df['Fare'] > df[df['Pclass']=='3']['Fare'].median()),'Class'] = 'E'\n",
        "df.loc[(df['Pclass']==\"3\") & (df['Fare'] <= df[df['Pclass']=='3']['Fare'].median()),'Class'] = 'F'"
      ],
      "metadata": {
        "id": "bPXUQnRCXPff"
      },
      "execution_count": 843,
      "outputs": []
    },
    {
      "cell_type": "code",
      "source": [
        "df[df['Class'].isnull()]"
      ],
      "metadata": {
        "id": "mIIEp3BY2Bdy",
        "outputId": "e4fa7cc4-1115-43f0-aa69-554f78e41030",
        "colab": {
          "base_uri": "https://localhost:8080/",
          "height": 49
        }
      },
      "execution_count": 824,
      "outputs": [
        {
          "output_type": "execute_result",
          "data": {
            "text/plain": [
              "Empty DataFrame\n",
              "Columns: [PassengerId, Pclass, Name, Sex, Age, SibSp, Parch, Ticket, Fare, Cabin, Embarked, Title, Class]\n",
              "Index: []"
            ],
            "text/html": [
              "\n",
              "  <div id=\"df-715b3b72-4f35-4c9f-b940-4ffc04d0ca99\">\n",
              "    <div class=\"colab-df-container\">\n",
              "      <div>\n",
              "<style scoped>\n",
              "    .dataframe tbody tr th:only-of-type {\n",
              "        vertical-align: middle;\n",
              "    }\n",
              "\n",
              "    .dataframe tbody tr th {\n",
              "        vertical-align: top;\n",
              "    }\n",
              "\n",
              "    .dataframe thead th {\n",
              "        text-align: right;\n",
              "    }\n",
              "</style>\n",
              "<table border=\"1\" class=\"dataframe\">\n",
              "  <thead>\n",
              "    <tr style=\"text-align: right;\">\n",
              "      <th></th>\n",
              "      <th>PassengerId</th>\n",
              "      <th>Pclass</th>\n",
              "      <th>Name</th>\n",
              "      <th>Sex</th>\n",
              "      <th>Age</th>\n",
              "      <th>SibSp</th>\n",
              "      <th>Parch</th>\n",
              "      <th>Ticket</th>\n",
              "      <th>Fare</th>\n",
              "      <th>Cabin</th>\n",
              "      <th>Embarked</th>\n",
              "      <th>Title</th>\n",
              "      <th>Class</th>\n",
              "    </tr>\n",
              "  </thead>\n",
              "  <tbody>\n",
              "  </tbody>\n",
              "</table>\n",
              "</div>\n",
              "      <button class=\"colab-df-convert\" onclick=\"convertToInteractive('df-715b3b72-4f35-4c9f-b940-4ffc04d0ca99')\"\n",
              "              title=\"Convert this dataframe to an interactive table.\"\n",
              "              style=\"display:none;\">\n",
              "        \n",
              "  <svg xmlns=\"http://www.w3.org/2000/svg\" height=\"24px\"viewBox=\"0 0 24 24\"\n",
              "       width=\"24px\">\n",
              "    <path d=\"M0 0h24v24H0V0z\" fill=\"none\"/>\n",
              "    <path d=\"M18.56 5.44l.94 2.06.94-2.06 2.06-.94-2.06-.94-.94-2.06-.94 2.06-2.06.94zm-11 1L8.5 8.5l.94-2.06 2.06-.94-2.06-.94L8.5 2.5l-.94 2.06-2.06.94zm10 10l.94 2.06.94-2.06 2.06-.94-2.06-.94-.94-2.06-.94 2.06-2.06.94z\"/><path d=\"M17.41 7.96l-1.37-1.37c-.4-.4-.92-.59-1.43-.59-.52 0-1.04.2-1.43.59L10.3 9.45l-7.72 7.72c-.78.78-.78 2.05 0 2.83L4 21.41c.39.39.9.59 1.41.59.51 0 1.02-.2 1.41-.59l7.78-7.78 2.81-2.81c.8-.78.8-2.07 0-2.86zM5.41 20L4 18.59l7.72-7.72 1.47 1.35L5.41 20z\"/>\n",
              "  </svg>\n",
              "      </button>\n",
              "      \n",
              "  <style>\n",
              "    .colab-df-container {\n",
              "      display:flex;\n",
              "      flex-wrap:wrap;\n",
              "      gap: 12px;\n",
              "    }\n",
              "\n",
              "    .colab-df-convert {\n",
              "      background-color: #E8F0FE;\n",
              "      border: none;\n",
              "      border-radius: 50%;\n",
              "      cursor: pointer;\n",
              "      display: none;\n",
              "      fill: #1967D2;\n",
              "      height: 32px;\n",
              "      padding: 0 0 0 0;\n",
              "      width: 32px;\n",
              "    }\n",
              "\n",
              "    .colab-df-convert:hover {\n",
              "      background-color: #E2EBFA;\n",
              "      box-shadow: 0px 1px 2px rgba(60, 64, 67, 0.3), 0px 1px 3px 1px rgba(60, 64, 67, 0.15);\n",
              "      fill: #174EA6;\n",
              "    }\n",
              "\n",
              "    [theme=dark] .colab-df-convert {\n",
              "      background-color: #3B4455;\n",
              "      fill: #D2E3FC;\n",
              "    }\n",
              "\n",
              "    [theme=dark] .colab-df-convert:hover {\n",
              "      background-color: #434B5C;\n",
              "      box-shadow: 0px 1px 3px 1px rgba(0, 0, 0, 0.15);\n",
              "      filter: drop-shadow(0px 1px 2px rgba(0, 0, 0, 0.3));\n",
              "      fill: #FFFFFF;\n",
              "    }\n",
              "  </style>\n",
              "\n",
              "      <script>\n",
              "        const buttonEl =\n",
              "          document.querySelector('#df-715b3b72-4f35-4c9f-b940-4ffc04d0ca99 button.colab-df-convert');\n",
              "        buttonEl.style.display =\n",
              "          google.colab.kernel.accessAllowed ? 'block' : 'none';\n",
              "\n",
              "        async function convertToInteractive(key) {\n",
              "          const element = document.querySelector('#df-715b3b72-4f35-4c9f-b940-4ffc04d0ca99');\n",
              "          const dataTable =\n",
              "            await google.colab.kernel.invokeFunction('convertToInteractive',\n",
              "                                                     [key], {});\n",
              "          if (!dataTable) return;\n",
              "\n",
              "          const docLinkHtml = 'Like what you see? Visit the ' +\n",
              "            '<a target=\"_blank\" href=https://colab.research.google.com/notebooks/data_table.ipynb>data table notebook</a>'\n",
              "            + ' to learn more about interactive tables.';\n",
              "          element.innerHTML = '';\n",
              "          dataTable['output_type'] = 'display_data';\n",
              "          await google.colab.output.renderOutput(dataTable, element);\n",
              "          const docLink = document.createElement('div');\n",
              "          docLink.innerHTML = docLinkHtml;\n",
              "          element.appendChild(docLink);\n",
              "        }\n",
              "      </script>\n",
              "    </div>\n",
              "  </div>\n",
              "  "
            ]
          },
          "metadata": {},
          "execution_count": 824
        }
      ]
    },
    {
      "cell_type": "code",
      "source": [
        "df[(df['Pclass']=='3') & (df['Fare'] > df[df['Pclass']=='3']['Fare'].median())]['Survived'].mean()"
      ],
      "metadata": {
        "id": "f2CZwvrqq8la",
        "outputId": "0631a7c9-d9b1-4d1a-f214-6a820355e937",
        "colab": {
          "base_uri": "https://localhost:8080/",
          "height": 504
        }
      },
      "execution_count": 464,
      "outputs": [
        {
          "output_type": "error",
          "ename": "KeyError",
          "evalue": "ignored",
          "traceback": [
            "\u001b[0;31m---------------------------------------------------------------------------\u001b[0m",
            "\u001b[0;31mKeyError\u001b[0m                                  Traceback (most recent call last)",
            "\u001b[0;32m/usr/local/lib/python3.10/dist-packages/pandas/core/indexes/base.py\u001b[0m in \u001b[0;36mget_loc\u001b[0;34m(self, key, method, tolerance)\u001b[0m\n\u001b[1;32m   3801\u001b[0m             \u001b[0;32mtry\u001b[0m\u001b[0;34m:\u001b[0m\u001b[0;34m\u001b[0m\u001b[0;34m\u001b[0m\u001b[0m\n\u001b[0;32m-> 3802\u001b[0;31m                 \u001b[0;32mreturn\u001b[0m \u001b[0mself\u001b[0m\u001b[0;34m.\u001b[0m\u001b[0m_engine\u001b[0m\u001b[0;34m.\u001b[0m\u001b[0mget_loc\u001b[0m\u001b[0;34m(\u001b[0m\u001b[0mcasted_key\u001b[0m\u001b[0;34m)\u001b[0m\u001b[0;34m\u001b[0m\u001b[0;34m\u001b[0m\u001b[0m\n\u001b[0m\u001b[1;32m   3803\u001b[0m             \u001b[0;32mexcept\u001b[0m \u001b[0mKeyError\u001b[0m \u001b[0;32mas\u001b[0m \u001b[0merr\u001b[0m\u001b[0;34m:\u001b[0m\u001b[0;34m\u001b[0m\u001b[0;34m\u001b[0m\u001b[0m\n",
            "\u001b[0;32m/usr/local/lib/python3.10/dist-packages/pandas/_libs/index.pyx\u001b[0m in \u001b[0;36mpandas._libs.index.IndexEngine.get_loc\u001b[0;34m()\u001b[0m\n",
            "\u001b[0;32m/usr/local/lib/python3.10/dist-packages/pandas/_libs/index.pyx\u001b[0m in \u001b[0;36mpandas._libs.index.IndexEngine.get_loc\u001b[0;34m()\u001b[0m\n",
            "\u001b[0;32mpandas/_libs/hashtable_class_helper.pxi\u001b[0m in \u001b[0;36mpandas._libs.hashtable.PyObjectHashTable.get_item\u001b[0;34m()\u001b[0m\n",
            "\u001b[0;32mpandas/_libs/hashtable_class_helper.pxi\u001b[0m in \u001b[0;36mpandas._libs.hashtable.PyObjectHashTable.get_item\u001b[0;34m()\u001b[0m\n",
            "\u001b[0;31mKeyError\u001b[0m: 'Survived'",
            "\nThe above exception was the direct cause of the following exception:\n",
            "\u001b[0;31mKeyError\u001b[0m                                  Traceback (most recent call last)",
            "\u001b[0;32m<ipython-input-464-541feb131d50>\u001b[0m in \u001b[0;36m<cell line: 1>\u001b[0;34m()\u001b[0m\n\u001b[0;32m----> 1\u001b[0;31m \u001b[0mdf\u001b[0m\u001b[0;34m[\u001b[0m\u001b[0;34m(\u001b[0m\u001b[0mdf\u001b[0m\u001b[0;34m[\u001b[0m\u001b[0;34m'Pclass'\u001b[0m\u001b[0;34m]\u001b[0m\u001b[0;34m==\u001b[0m\u001b[0;34m'3'\u001b[0m\u001b[0;34m)\u001b[0m \u001b[0;34m&\u001b[0m \u001b[0;34m(\u001b[0m\u001b[0mdf\u001b[0m\u001b[0;34m[\u001b[0m\u001b[0;34m'Fare'\u001b[0m\u001b[0;34m]\u001b[0m \u001b[0;34m>\u001b[0m \u001b[0mdf\u001b[0m\u001b[0;34m[\u001b[0m\u001b[0mdf\u001b[0m\u001b[0;34m[\u001b[0m\u001b[0;34m'Pclass'\u001b[0m\u001b[0;34m]\u001b[0m\u001b[0;34m==\u001b[0m\u001b[0;34m'3'\u001b[0m\u001b[0;34m]\u001b[0m\u001b[0;34m[\u001b[0m\u001b[0;34m'Fare'\u001b[0m\u001b[0;34m]\u001b[0m\u001b[0;34m.\u001b[0m\u001b[0mmedian\u001b[0m\u001b[0;34m(\u001b[0m\u001b[0;34m)\u001b[0m\u001b[0;34m)\u001b[0m\u001b[0;34m]\u001b[0m\u001b[0;34m[\u001b[0m\u001b[0;34m'Survived'\u001b[0m\u001b[0;34m]\u001b[0m\u001b[0;34m.\u001b[0m\u001b[0mmean\u001b[0m\u001b[0;34m(\u001b[0m\u001b[0;34m)\u001b[0m\u001b[0;34m\u001b[0m\u001b[0;34m\u001b[0m\u001b[0m\n\u001b[0m",
            "\u001b[0;32m/usr/local/lib/python3.10/dist-packages/pandas/core/frame.py\u001b[0m in \u001b[0;36m__getitem__\u001b[0;34m(self, key)\u001b[0m\n\u001b[1;32m   3805\u001b[0m             \u001b[0;32mif\u001b[0m \u001b[0mself\u001b[0m\u001b[0;34m.\u001b[0m\u001b[0mcolumns\u001b[0m\u001b[0;34m.\u001b[0m\u001b[0mnlevels\u001b[0m \u001b[0;34m>\u001b[0m \u001b[0;36m1\u001b[0m\u001b[0;34m:\u001b[0m\u001b[0;34m\u001b[0m\u001b[0;34m\u001b[0m\u001b[0m\n\u001b[1;32m   3806\u001b[0m                 \u001b[0;32mreturn\u001b[0m \u001b[0mself\u001b[0m\u001b[0;34m.\u001b[0m\u001b[0m_getitem_multilevel\u001b[0m\u001b[0;34m(\u001b[0m\u001b[0mkey\u001b[0m\u001b[0;34m)\u001b[0m\u001b[0;34m\u001b[0m\u001b[0;34m\u001b[0m\u001b[0m\n\u001b[0;32m-> 3807\u001b[0;31m             \u001b[0mindexer\u001b[0m \u001b[0;34m=\u001b[0m \u001b[0mself\u001b[0m\u001b[0;34m.\u001b[0m\u001b[0mcolumns\u001b[0m\u001b[0;34m.\u001b[0m\u001b[0mget_loc\u001b[0m\u001b[0;34m(\u001b[0m\u001b[0mkey\u001b[0m\u001b[0;34m)\u001b[0m\u001b[0;34m\u001b[0m\u001b[0;34m\u001b[0m\u001b[0m\n\u001b[0m\u001b[1;32m   3808\u001b[0m             \u001b[0;32mif\u001b[0m \u001b[0mis_integer\u001b[0m\u001b[0;34m(\u001b[0m\u001b[0mindexer\u001b[0m\u001b[0;34m)\u001b[0m\u001b[0;34m:\u001b[0m\u001b[0;34m\u001b[0m\u001b[0;34m\u001b[0m\u001b[0m\n\u001b[1;32m   3809\u001b[0m                 \u001b[0mindexer\u001b[0m \u001b[0;34m=\u001b[0m \u001b[0;34m[\u001b[0m\u001b[0mindexer\u001b[0m\u001b[0;34m]\u001b[0m\u001b[0;34m\u001b[0m\u001b[0;34m\u001b[0m\u001b[0m\n",
            "\u001b[0;32m/usr/local/lib/python3.10/dist-packages/pandas/core/indexes/base.py\u001b[0m in \u001b[0;36mget_loc\u001b[0;34m(self, key, method, tolerance)\u001b[0m\n\u001b[1;32m   3802\u001b[0m                 \u001b[0;32mreturn\u001b[0m \u001b[0mself\u001b[0m\u001b[0;34m.\u001b[0m\u001b[0m_engine\u001b[0m\u001b[0;34m.\u001b[0m\u001b[0mget_loc\u001b[0m\u001b[0;34m(\u001b[0m\u001b[0mcasted_key\u001b[0m\u001b[0;34m)\u001b[0m\u001b[0;34m\u001b[0m\u001b[0;34m\u001b[0m\u001b[0m\n\u001b[1;32m   3803\u001b[0m             \u001b[0;32mexcept\u001b[0m \u001b[0mKeyError\u001b[0m \u001b[0;32mas\u001b[0m \u001b[0merr\u001b[0m\u001b[0;34m:\u001b[0m\u001b[0;34m\u001b[0m\u001b[0;34m\u001b[0m\u001b[0m\n\u001b[0;32m-> 3804\u001b[0;31m                 \u001b[0;32mraise\u001b[0m \u001b[0mKeyError\u001b[0m\u001b[0;34m(\u001b[0m\u001b[0mkey\u001b[0m\u001b[0;34m)\u001b[0m \u001b[0;32mfrom\u001b[0m \u001b[0merr\u001b[0m\u001b[0;34m\u001b[0m\u001b[0;34m\u001b[0m\u001b[0m\n\u001b[0m\u001b[1;32m   3805\u001b[0m             \u001b[0;32mexcept\u001b[0m \u001b[0mTypeError\u001b[0m\u001b[0;34m:\u001b[0m\u001b[0;34m\u001b[0m\u001b[0;34m\u001b[0m\u001b[0m\n\u001b[1;32m   3806\u001b[0m                 \u001b[0;31m# If we have a listlike key, _check_indexing_error will raise\u001b[0m\u001b[0;34m\u001b[0m\u001b[0;34m\u001b[0m\u001b[0m\n",
            "\u001b[0;31mKeyError\u001b[0m: 'Survived'"
          ]
        }
      ]
    },
    {
      "cell_type": "code",
      "source": [
        "df.loc[(df['Pclass']==1) & (df['Cabin'].isnull()),'Cabin'] = 'C'\n",
        "df.loc[(df['Pclass']==2) & (df['Cabin'].isnull()),'Cabin'] = 'N'\n",
        "df.loc[(df['Pclass']==3) & (df['Cabin'].isnull()),'Cabin'] = 'N'\n",
        "df['Ncabin'] = df['Cabin'].str.extract('([A-G])', expand=False)\n",
        "df['Ncabin'] = df['Ncabin'].fillna(\"N\")"
      ],
      "metadata": {
        "id": "P6AvwnIvNxNC"
      },
      "execution_count": 844,
      "outputs": []
    },
    {
      "cell_type": "code",
      "source": [
        "def cabin_estimator(i):\n",
        "    if i<16:\n",
        "        a = \"G\"\n",
        "    elif i<30:\n",
        "        a = \"F\"\n",
        "    elif i<44:\n",
        "        a = \"A\"\n",
        "    elif i<50:\n",
        "        a = \"E\"\n",
        "    elif i<60:\n",
        "        a = \"D\"\n",
        "    elif i<110:\n",
        "        a = 'C'\n",
        "    else:\n",
        "        a = \"B\"\n",
        "    return a\n",
        "df['Cabin'] = df.Fare.apply(lambda x: cabin_estimator(x))"
      ],
      "metadata": {
        "id": "DCRkyIX-rcLx"
      },
      "execution_count": 426,
      "outputs": []
    },
    {
      "cell_type": "code",
      "source": [
        "df['Family'] = df['SibSp']+df['Parch']\n",
        "df.loc[df['Family'] > 3,'Family'] = 4\n",
        "df['Family'] = df['Family'].astype('string')"
      ],
      "metadata": {
        "id": "0m1cylAVJoGQ"
      },
      "execution_count": 845,
      "outputs": []
    },
    {
      "cell_type": "code",
      "source": [
        "embark_dic = {0:\"C\", 1:\"S\", 2:\"Q\"}\n",
        "df['Embarked'].fillna(df['Embarked'].dropna().mode()[0], inplace=True)\n",
        "for i in range(3):\n",
        "  df.loc[(df['Pclass']==i+1) & (df['Fare'].isnull()),'Fare'] = df[df['Pclass']==i+1]['Fare'].dropna().median()\n",
        "#df['Fare'].fillna(df['Fare'].dropna().median(), inplace=True)\n",
        "#df['Fare'] = df['Fare'].apply(lambda x : classify_fare(x))"
      ],
      "metadata": {
        "id": "kYXA_GzRNPtO"
      },
      "execution_count": 846,
      "outputs": []
    },
    {
      "cell_type": "code",
      "source": [
        "df[df['Fare'].isnull()]"
      ],
      "metadata": {
        "id": "3H3OBhI8qlXV",
        "outputId": "3e2ba279-3912-467f-a83f-dc566e3a6f6f",
        "colab": {
          "base_uri": "https://localhost:8080/",
          "height": 49
        }
      },
      "execution_count": 800,
      "outputs": [
        {
          "output_type": "execute_result",
          "data": {
            "text/plain": [
              "Empty DataFrame\n",
              "Columns: [PassengerId, Pclass, Name, Sex, Age, SibSp, Parch, Ticket, Fare, Cabin, Embarked, Title, Class, Ncabin, Family]\n",
              "Index: []"
            ],
            "text/html": [
              "\n",
              "  <div id=\"df-918f9ade-bd2a-43b6-a5bb-2fd8c1ae1055\">\n",
              "    <div class=\"colab-df-container\">\n",
              "      <div>\n",
              "<style scoped>\n",
              "    .dataframe tbody tr th:only-of-type {\n",
              "        vertical-align: middle;\n",
              "    }\n",
              "\n",
              "    .dataframe tbody tr th {\n",
              "        vertical-align: top;\n",
              "    }\n",
              "\n",
              "    .dataframe thead th {\n",
              "        text-align: right;\n",
              "    }\n",
              "</style>\n",
              "<table border=\"1\" class=\"dataframe\">\n",
              "  <thead>\n",
              "    <tr style=\"text-align: right;\">\n",
              "      <th></th>\n",
              "      <th>PassengerId</th>\n",
              "      <th>Pclass</th>\n",
              "      <th>Name</th>\n",
              "      <th>Sex</th>\n",
              "      <th>Age</th>\n",
              "      <th>SibSp</th>\n",
              "      <th>Parch</th>\n",
              "      <th>Ticket</th>\n",
              "      <th>Fare</th>\n",
              "      <th>Cabin</th>\n",
              "      <th>Embarked</th>\n",
              "      <th>Title</th>\n",
              "      <th>Class</th>\n",
              "      <th>Ncabin</th>\n",
              "      <th>Family</th>\n",
              "    </tr>\n",
              "  </thead>\n",
              "  <tbody>\n",
              "  </tbody>\n",
              "</table>\n",
              "</div>\n",
              "      <button class=\"colab-df-convert\" onclick=\"convertToInteractive('df-918f9ade-bd2a-43b6-a5bb-2fd8c1ae1055')\"\n",
              "              title=\"Convert this dataframe to an interactive table.\"\n",
              "              style=\"display:none;\">\n",
              "        \n",
              "  <svg xmlns=\"http://www.w3.org/2000/svg\" height=\"24px\"viewBox=\"0 0 24 24\"\n",
              "       width=\"24px\">\n",
              "    <path d=\"M0 0h24v24H0V0z\" fill=\"none\"/>\n",
              "    <path d=\"M18.56 5.44l.94 2.06.94-2.06 2.06-.94-2.06-.94-.94-2.06-.94 2.06-2.06.94zm-11 1L8.5 8.5l.94-2.06 2.06-.94-2.06-.94L8.5 2.5l-.94 2.06-2.06.94zm10 10l.94 2.06.94-2.06 2.06-.94-2.06-.94-.94-2.06-.94 2.06-2.06.94z\"/><path d=\"M17.41 7.96l-1.37-1.37c-.4-.4-.92-.59-1.43-.59-.52 0-1.04.2-1.43.59L10.3 9.45l-7.72 7.72c-.78.78-.78 2.05 0 2.83L4 21.41c.39.39.9.59 1.41.59.51 0 1.02-.2 1.41-.59l7.78-7.78 2.81-2.81c.8-.78.8-2.07 0-2.86zM5.41 20L4 18.59l7.72-7.72 1.47 1.35L5.41 20z\"/>\n",
              "  </svg>\n",
              "      </button>\n",
              "      \n",
              "  <style>\n",
              "    .colab-df-container {\n",
              "      display:flex;\n",
              "      flex-wrap:wrap;\n",
              "      gap: 12px;\n",
              "    }\n",
              "\n",
              "    .colab-df-convert {\n",
              "      background-color: #E8F0FE;\n",
              "      border: none;\n",
              "      border-radius: 50%;\n",
              "      cursor: pointer;\n",
              "      display: none;\n",
              "      fill: #1967D2;\n",
              "      height: 32px;\n",
              "      padding: 0 0 0 0;\n",
              "      width: 32px;\n",
              "    }\n",
              "\n",
              "    .colab-df-convert:hover {\n",
              "      background-color: #E2EBFA;\n",
              "      box-shadow: 0px 1px 2px rgba(60, 64, 67, 0.3), 0px 1px 3px 1px rgba(60, 64, 67, 0.15);\n",
              "      fill: #174EA6;\n",
              "    }\n",
              "\n",
              "    [theme=dark] .colab-df-convert {\n",
              "      background-color: #3B4455;\n",
              "      fill: #D2E3FC;\n",
              "    }\n",
              "\n",
              "    [theme=dark] .colab-df-convert:hover {\n",
              "      background-color: #434B5C;\n",
              "      box-shadow: 0px 1px 3px 1px rgba(0, 0, 0, 0.15);\n",
              "      filter: drop-shadow(0px 1px 2px rgba(0, 0, 0, 0.3));\n",
              "      fill: #FFFFFF;\n",
              "    }\n",
              "  </style>\n",
              "\n",
              "      <script>\n",
              "        const buttonEl =\n",
              "          document.querySelector('#df-918f9ade-bd2a-43b6-a5bb-2fd8c1ae1055 button.colab-df-convert');\n",
              "        buttonEl.style.display =\n",
              "          google.colab.kernel.accessAllowed ? 'block' : 'none';\n",
              "\n",
              "        async function convertToInteractive(key) {\n",
              "          const element = document.querySelector('#df-918f9ade-bd2a-43b6-a5bb-2fd8c1ae1055');\n",
              "          const dataTable =\n",
              "            await google.colab.kernel.invokeFunction('convertToInteractive',\n",
              "                                                     [key], {});\n",
              "          if (!dataTable) return;\n",
              "\n",
              "          const docLinkHtml = 'Like what you see? Visit the ' +\n",
              "            '<a target=\"_blank\" href=https://colab.research.google.com/notebooks/data_table.ipynb>data table notebook</a>'\n",
              "            + ' to learn more about interactive tables.';\n",
              "          element.innerHTML = '';\n",
              "          dataTable['output_type'] = 'display_data';\n",
              "          await google.colab.output.renderOutput(dataTable, element);\n",
              "          const docLink = document.createElement('div');\n",
              "          docLink.innerHTML = docLinkHtml;\n",
              "          element.appendChild(docLink);\n",
              "        }\n",
              "      </script>\n",
              "    </div>\n",
              "  </div>\n",
              "  "
            ]
          },
          "metadata": {},
          "execution_count": 800
        }
      ]
    },
    {
      "cell_type": "code",
      "source": [
        "df['Sex'].value_counts()"
      ],
      "metadata": {
        "id": "cmGaxM5rVUqt",
        "outputId": "1ebc8263-55b2-4e3d-b9a8-672528068f0c",
        "colab": {
          "base_uri": "https://localhost:8080/"
        }
      },
      "execution_count": 801,
      "outputs": [
        {
          "output_type": "execute_result",
          "data": {
            "text/plain": [
              "male      266\n",
              "female    152\n",
              "Name: Sex, dtype: int64"
            ]
          },
          "metadata": {},
          "execution_count": 801
        }
      ]
    },
    {
      "cell_type": "code",
      "source": [
        "stscaler.fit(df[['Age','Fare']])\n",
        "scaled = stscaler.transform(df[['Age','Fare']])\n",
        "mmscaler.fit(scaled)\n",
        "output = mmscaler.transform(scaled)\n",
        "output = pd.DataFrame(output, columns=['Age','Fare'])\n",
        "df['Age'] = output['Age']\n",
        "df['Fare'] = output['Fare']\n",
        "#df['Ncabin'] = df['Ncabin'].astype(int)"
      ],
      "metadata": {
        "id": "Ioau9cMNYHpc"
      },
      "execution_count": 847,
      "outputs": []
    },
    {
      "cell_type": "code",
      "source": [
        "plt.figure(figsize=(15,15))\n",
        "plt.subplot(4,2,1)\n",
        "sns.barplot(x='Sex', y='Survived', hue='Pclass', data=df)\n",
        "plt.subplot(4,2,2)\n",
        "sns.histplot(x='Fare', hue='Sex', data=df)\n",
        "plt.subplot(4,2,3)\n",
        "sns.barplot(x='Class', y='Survived', data=df)\n",
        "plt.subplot(4,2,4)\n",
        "sns.barplot(x='Family', y='Survived', data=df)\n",
        "plt.subplot(4,2,5)\n",
        "sns.barplot(x='Embarked', y='Fare',hue='Survived', data=df)\n",
        "plt.subplot(4,2,6)\n",
        "sns.scatterplot(x='Age', y='Fare',hue='Survived', data=df)"
      ],
      "metadata": {
        "id": "qWq7JS54_Yah",
        "outputId": "6d5941ad-d6ef-4806-eede-2e4535c66752",
        "colab": {
          "base_uri": "https://localhost:8080/",
          "height": 950
        }
      },
      "execution_count": 243,
      "outputs": [
        {
          "output_type": "execute_result",
          "data": {
            "text/plain": [
              "<Axes: xlabel='Age', ylabel='Fare'>"
            ]
          },
          "metadata": {},
          "execution_count": 243
        },
        {
          "output_type": "display_data",
          "data": {
            "text/plain": [
              "<Figure size 1500x1500 with 6 Axes>"
            ],
            "image/png": "[encoded data removed]"
          },
          "metadata": {}
        }
      ]
    },
    {
      "cell_type": "code",
      "source": [
        "df.drop(['PassengerId','Name', 'Ticket', 'SibSp','Parch'],axis=1,inplace=True)\n",
        "df.info()"
      ],
      "metadata": {
        "id": "-gxTDT9y9HZa",
        "outputId": "9bd3d731-1890-474e-81ef-9596f3b2fd33",
        "colab": {
          "base_uri": "https://localhost:8080/"
        }
      },
      "execution_count": 848,
      "outputs": [
        {
          "output_type": "stream",
          "name": "stdout",
          "text": [
            "<class 'pandas.core.frame.DataFrame'>\n",
            "Int64Index: 1309 entries, 0 to 417\n",
            "Data columns (total 10 columns):\n",
            " #   Column    Non-Null Count  Dtype  \n",
            "---  ------    --------------  -----  \n",
            " 0   Pclass    1309 non-null   string \n",
            " 1   Sex       1309 non-null   object \n",
            " 2   Age       1309 non-null   float64\n",
            " 3   Fare      1309 non-null   float64\n",
            " 4   Cabin     295 non-null    object \n",
            " 5   Embarked  1309 non-null   object \n",
            " 6   Title     1309 non-null   object \n",
            " 7   Class     1309 non-null   object \n",
            " 8   Ncabin    1309 non-null   object \n",
            " 9   Family    1309 non-null   string \n",
            "dtypes: float64(2), object(6), string(2)\n",
            "memory usage: 112.5+ KB\n"
          ]
        }
      ]
    },
    {
      "cell_type": "code",
      "source": [
        "df.drop(['Sex','Cabin','Embarked'],axis=1,inplace=True)"
      ],
      "metadata": {
        "id": "RX_hxMnNdnjJ"
      },
      "execution_count": 849,
      "outputs": []
    },
    {
      "cell_type": "code",
      "source": [],
      "metadata": {
        "id": "UWdWjJ7ob5c8"
      },
      "execution_count": null,
      "outputs": []
    },
    {
      "cell_type": "code",
      "source": [
        "data = ['Pclass','Sex','Embarked','Title','Ncabin','Family']\n",
        "#data= ['Age','Title','Class','Family']\n",
        "for column in data:\n",
        "  le = LabelEncoder()\n",
        "  le = le.fit(df[column])\n",
        "  df[column] = le.transform(df[column])\n",
        "me = MinMaxScaler()\n",
        "me = me.fit(df[data])\n",
        "df[data] = me.transform(df[data])"
      ],
      "metadata": {
        "id": "UWPe25zmjvKY"
      },
      "execution_count": 578,
      "outputs": []
    },
    {
      "cell_type": "code",
      "source": [
        "df.info()"
      ],
      "metadata": {
        "id": "FYavK7MTJTjM",
        "outputId": "0889743c-45ac-4e1f-f06a-c92982983054",
        "colab": {
          "base_uri": "https://localhost:8080/"
        }
      },
      "execution_count": 673,
      "outputs": [
        {
          "output_type": "stream",
          "name": "stdout",
          "text": [
            "<class 'pandas.core.frame.DataFrame'>\n",
            "RangeIndex: 418 entries, 0 to 417\n",
            "Data columns (total 8 columns):\n",
            " #   Column    Non-Null Count  Dtype  \n",
            "---  ------    --------------  -----  \n",
            " 0   Pclass    418 non-null    string \n",
            " 1   Sex       418 non-null    object \n",
            " 2   Age       418 non-null    float64\n",
            " 3   Fare      418 non-null    float64\n",
            " 4   Embarked  418 non-null    object \n",
            " 5   Title     418 non-null    object \n",
            " 6   Ncabin    418 non-null    object \n",
            " 7   Family    418 non-null    string \n",
            "dtypes: float64(2), object(4), string(2)\n",
            "memory usage: 26.2+ KB\n"
          ]
        }
      ]
    },
    {
      "cell_type": "code",
      "source": [
        "#Survive = df.iloc[:,0]\n",
        "#df = pd.get_dummies(df.iloc[:,1:])\n",
        "df = pd.get_dummies(df,drop_first=True)\n",
        "#df = pd.concat([Survive, df],axis=1)\n",
        "df.info()"
      ],
      "metadata": {
        "id": "toWyAxMBQaSP",
        "outputId": "75ad8a8a-f552-4854-8bbf-f39df9374857",
        "colab": {
          "base_uri": "https://localhost:8080/"
        }
      },
      "execution_count": 850,
      "outputs": [
        {
          "output_type": "stream",
          "name": "stdout",
          "text": [
            "<class 'pandas.core.frame.DataFrame'>\n",
            "Int64Index: 1309 entries, 0 to 417\n",
            "Data columns (total 24 columns):\n",
            " #   Column        Non-Null Count  Dtype  \n",
            "---  ------        --------------  -----  \n",
            " 0   Age           1309 non-null   float64\n",
            " 1   Fare          1309 non-null   float64\n",
            " 2   Pclass_2      1309 non-null   uint8  \n",
            " 3   Pclass_3      1309 non-null   uint8  \n",
            " 4   Title_Master  1309 non-null   uint8  \n",
            " 5   Title_Miss    1309 non-null   uint8  \n",
            " 6   Title_Mr      1309 non-null   uint8  \n",
            " 7   Title_Mrs     1309 non-null   uint8  \n",
            " 8   Class_B       1309 non-null   uint8  \n",
            " 9   Class_C       1309 non-null   uint8  \n",
            " 10  Class_D       1309 non-null   uint8  \n",
            " 11  Class_E       1309 non-null   uint8  \n",
            " 12  Class_F       1309 non-null   uint8  \n",
            " 13  Ncabin_B      1309 non-null   uint8  \n",
            " 14  Ncabin_C      1309 non-null   uint8  \n",
            " 15  Ncabin_D      1309 non-null   uint8  \n",
            " 16  Ncabin_E      1309 non-null   uint8  \n",
            " 17  Ncabin_F      1309 non-null   uint8  \n",
            " 18  Ncabin_G      1309 non-null   uint8  \n",
            " 19  Ncabin_N      1309 non-null   uint8  \n",
            " 20  Family_1      1309 non-null   uint8  \n",
            " 21  Family_2      1309 non-null   uint8  \n",
            " 22  Family_3      1309 non-null   uint8  \n",
            " 23  Family_4      1309 non-null   uint8  \n",
            "dtypes: float64(2), uint8(22)\n",
            "memory usage: 58.8 KB\n"
          ]
        }
      ]
    },
    {
      "cell_type": "code",
      "source": [
        "df.head()"
      ],
      "metadata": {
        "id": "NHZrK0xdny8Q",
        "outputId": "62a323a8-0e34-4a19-83ad-010abee818f4",
        "colab": {
          "base_uri": "https://localhost:8080/",
          "height": 300
        }
      },
      "execution_count": 851,
      "outputs": [
        {
          "output_type": "execute_result",
          "data": {
            "text/plain": [
              "        Age      Fare  Pclass_2  Pclass_3  Title_Master  Title_Miss  Title_Mr  \\\n",
              "0  0.273456  0.014151         0         1             0           0         1   \n",
              "1  0.473882  0.139136         0         0             0           0         0   \n",
              "2  0.323563  0.015469         0         1             0           1         0   \n",
              "3  0.436302  0.103644         0         0             0           0         0   \n",
              "4  0.436302  0.015713         0         1             0           0         1   \n",
              "\n",
              "   Title_Mrs  Class_B  Class_C  ...  Ncabin_C  Ncabin_D  Ncabin_E  Ncabin_F  \\\n",
              "0          0        0        0  ...         0         0         0         0   \n",
              "1          1        0        0  ...         1         0         0         0   \n",
              "2          0        0        0  ...         0         0         0         0   \n",
              "3          1        1        0  ...         1         0         0         0   \n",
              "4          0        0        0  ...         0         0         0         0   \n",
              "\n",
              "   Ncabin_G  Ncabin_N  Family_1  Family_2  Family_3  Family_4  \n",
              "0         0         1         1         0         0         0  \n",
              "1         0         0         1         0         0         0  \n",
              "2         0         1         0         0         0         0  \n",
              "3         0         0         1         0         0         0  \n",
              "4         0         1         0         0         0         0  \n",
              "\n",
              "[5 rows x 24 columns]"
            ],
            "text/html": [
              "\n",
              "  <div id=\"df-9070f366-ee9c-468a-bcbf-610760e9eb5d\">\n",
              "    <div class=\"colab-df-container\">\n",
              "      <div>\n",
              "<style scoped>\n",
              "    .dataframe tbody tr th:only-of-type {\n",
              "        vertical-align: middle;\n",
              "    }\n",
              "\n",
              "    .dataframe tbody tr th {\n",
              "        vertical-align: top;\n",
              "    }\n",
              "\n",
              "    .dataframe thead th {\n",
              "        text-align: right;\n",
              "    }\n",
              "</style>\n",
              "<table border=\"1\" class=\"dataframe\">\n",
              "  <thead>\n",
              "    <tr style=\"text-align: right;\">\n",
              "      <th></th>\n",
              "      <th>Age</th>\n",
              "      <th>Fare</th>\n",
              "      <th>Pclass_2</th>\n",
              "      <th>Pclass_3</th>\n",
              "      <th>Title_Master</th>\n",
              "      <th>Title_Miss</th>\n",
              "      <th>Title_Mr</th>\n",
              "      <th>Title_Mrs</th>\n",
              "      <th>Class_B</th>\n",
              "      <th>Class_C</th>\n",
              "      <th>...</th>\n",
              "      <th>Ncabin_C</th>\n",
              "      <th>Ncabin_D</th>\n",
              "      <th>Ncabin_E</th>\n",
              "      <th>Ncabin_F</th>\n",
              "      <th>Ncabin_G</th>\n",
              "      <th>Ncabin_N</th>\n",
              "      <th>Family_1</th>\n",
              "      <th>Family_2</th>\n",
              "      <th>Family_3</th>\n",
              "      <th>Family_4</th>\n",
              "    </tr>\n",
              "  </thead>\n",
              "  <tbody>\n",
              "    <tr>\n",
              "      <th>0</th>\n",
              "      <td>0.273456</td>\n",
              "      <td>0.014151</td>\n",
              "      <td>0</td>\n",
              "      <td>1</td>\n",
              "      <td>0</td>\n",
              "      <td>0</td>\n",
              "      <td>1</td>\n",
              "      <td>0</td>\n",
              "      <td>0</td>\n",
              "      <td>0</td>\n",
              "      <td>...</td>\n",
              "      <td>0</td>\n",
              "      <td>0</td>\n",
              "      <td>0</td>\n",
              "      <td>0</td>\n",
              "      <td>0</td>\n",
              "      <td>1</td>\n",
              "      <td>1</td>\n",
              "      <td>0</td>\n",
              "      <td>0</td>\n",
              "      <td>0</td>\n",
              "    </tr>\n",
              "    <tr>\n",
              "      <th>1</th>\n",
              "      <td>0.473882</td>\n",
              "      <td>0.139136</td>\n",
              "      <td>0</td>\n",
              "      <td>0</td>\n",
              "      <td>0</td>\n",
              "      <td>0</td>\n",
              "      <td>0</td>\n",
              "      <td>1</td>\n",
              "      <td>0</td>\n",
              "      <td>0</td>\n",
              "      <td>...</td>\n",
              "      <td>1</td>\n",
              "      <td>0</td>\n",
              "      <td>0</td>\n",
              "      <td>0</td>\n",
              "      <td>0</td>\n",
              "      <td>0</td>\n",
              "      <td>1</td>\n",
              "      <td>0</td>\n",
              "      <td>0</td>\n",
              "      <td>0</td>\n",
              "    </tr>\n",
              "    <tr>\n",
              "      <th>2</th>\n",
              "      <td>0.323563</td>\n",
              "      <td>0.015469</td>\n",
              "      <td>0</td>\n",
              "      <td>1</td>\n",
              "      <td>0</td>\n",
              "      <td>1</td>\n",
              "      <td>0</td>\n",
              "      <td>0</td>\n",
              "      <td>0</td>\n",
              "      <td>0</td>\n",
              "      <td>...</td>\n",
              "      <td>0</td>\n",
              "      <td>0</td>\n",
              "      <td>0</td>\n",
              "      <td>0</td>\n",
              "      <td>0</td>\n",
              "      <td>1</td>\n",
              "      <td>0</td>\n",
              "      <td>0</td>\n",
              "      <td>0</td>\n",
              "      <td>0</td>\n",
              "    </tr>\n",
              "    <tr>\n",
              "      <th>3</th>\n",
              "      <td>0.436302</td>\n",
              "      <td>0.103644</td>\n",
              "      <td>0</td>\n",
              "      <td>0</td>\n",
              "      <td>0</td>\n",
              "      <td>0</td>\n",
              "      <td>0</td>\n",
              "      <td>1</td>\n",
              "      <td>1</td>\n",
              "      <td>0</td>\n",
              "      <td>...</td>\n",
              "      <td>1</td>\n",
              "      <td>0</td>\n",
              "      <td>0</td>\n",
              "      <td>0</td>\n",
              "      <td>0</td>\n",
              "      <td>0</td>\n",
              "      <td>1</td>\n",
              "      <td>0</td>\n",
              "      <td>0</td>\n",
              "      <td>0</td>\n",
              "    </tr>\n",
              "    <tr>\n",
              "      <th>4</th>\n",
              "      <td>0.436302</td>\n",
              "      <td>0.015713</td>\n",
              "      <td>0</td>\n",
              "      <td>1</td>\n",
              "      <td>0</td>\n",
              "      <td>0</td>\n",
              "      <td>1</td>\n",
              "      <td>0</td>\n",
              "      <td>0</td>\n",
              "      <td>0</td>\n",
              "      <td>...</td>\n",
              "      <td>0</td>\n",
              "      <td>0</td>\n",
              "      <td>0</td>\n",
              "      <td>0</td>\n",
              "      <td>0</td>\n",
              "      <td>1</td>\n",
              "      <td>0</td>\n",
              "      <td>0</td>\n",
              "      <td>0</td>\n",
              "      <td>0</td>\n",
              "    </tr>\n",
              "  </tbody>\n",
              "</table>\n",
              "<p>5 rows × 24 columns</p>\n",
              "</div>\n",
              "      <button class=\"colab-df-convert\" onclick=\"convertToInteractive('df-9070f366-ee9c-468a-bcbf-610760e9eb5d')\"\n",
              "              title=\"Convert this dataframe to an interactive table.\"\n",
              "              style=\"display:none;\">\n",
              "        \n",
              "  <svg xmlns=\"http://www.w3.org/2000/svg\" height=\"24px\"viewBox=\"0 0 24 24\"\n",
              "       width=\"24px\">\n",
              "    <path d=\"M0 0h24v24H0V0z\" fill=\"none\"/>\n",
              "    <path d=\"M18.56 5.44l.94 2.06.94-2.06 2.06-.94-2.06-.94-.94-2.06-.94 2.06-2.06.94zm-11 1L8.5 8.5l.94-2.06 2.06-.94-2.06-.94L8.5 2.5l-.94 2.06-2.06.94zm10 10l.94 2.06.94-2.06 2.06-.94-2.06-.94-.94-2.06-.94 2.06-2.06.94z\"/><path d=\"M17.41 7.96l-1.37-1.37c-.4-.4-.92-.59-1.43-.59-.52 0-1.04.2-1.43.59L10.3 9.45l-7.72 7.72c-.78.78-.78 2.05 0 2.83L4 21.41c.39.39.9.59 1.41.59.51 0 1.02-.2 1.41-.59l7.78-7.78 2.81-2.81c.8-.78.8-2.07 0-2.86zM5.41 20L4 18.59l7.72-7.72 1.47 1.35L5.41 20z\"/>\n",
              "  </svg>\n",
              "      </button>\n",
              "      \n",
              "  <style>\n",
              "    .colab-df-container {\n",
              "      display:flex;\n",
              "      flex-wrap:wrap;\n",
              "      gap: 12px;\n",
              "    }\n",
              "\n",
              "    .colab-df-convert {\n",
              "      background-color: #E8F0FE;\n",
              "      border: none;\n",
              "      border-radius: 50%;\n",
              "      cursor: pointer;\n",
              "      display: none;\n",
              "      fill: #1967D2;\n",
              "      height: 32px;\n",
              "      padding: 0 0 0 0;\n",
              "      width: 32px;\n",
              "    }\n",
              "\n",
              "    .colab-df-convert:hover {\n",
              "      background-color: #E2EBFA;\n",
              "      box-shadow: 0px 1px 2px rgba(60, 64, 67, 0.3), 0px 1px 3px 1px rgba(60, 64, 67, 0.15);\n",
              "      fill: #174EA6;\n",
              "    }\n",
              "\n",
              "    [theme=dark] .colab-df-convert {\n",
              "      background-color: #3B4455;\n",
              "      fill: #D2E3FC;\n",
              "    }\n",
              "\n",
              "    [theme=dark] .colab-df-convert:hover {\n",
              "      background-color: #434B5C;\n",
              "      box-shadow: 0px 1px 3px 1px rgba(0, 0, 0, 0.15);\n",
              "      filter: drop-shadow(0px 1px 2px rgba(0, 0, 0, 0.3));\n",
              "      fill: #FFFFFF;\n",
              "    }\n",
              "  </style>\n",
              "\n",
              "      <script>\n",
              "        const buttonEl =\n",
              "          document.querySelector('#df-9070f366-ee9c-468a-bcbf-610760e9eb5d button.colab-df-convert');\n",
              "        buttonEl.style.display =\n",
              "          google.colab.kernel.accessAllowed ? 'block' : 'none';\n",
              "\n",
              "        async function convertToInteractive(key) {\n",
              "          const element = document.querySelector('#df-9070f366-ee9c-468a-bcbf-610760e9eb5d');\n",
              "          const dataTable =\n",
              "            await google.colab.kernel.invokeFunction('convertToInteractive',\n",
              "                                                     [key], {});\n",
              "          if (!dataTable) return;\n",
              "\n",
              "          const docLinkHtml = 'Like what you see? Visit the ' +\n",
              "            '<a target=\"_blank\" href=https://colab.research.google.com/notebooks/data_table.ipynb>data table notebook</a>'\n",
              "            + ' to learn more about interactive tables.';\n",
              "          element.innerHTML = '';\n",
              "          dataTable['output_type'] = 'display_data';\n",
              "          await google.colab.output.renderOutput(dataTable, element);\n",
              "          const docLink = document.createElement('div');\n",
              "          docLink.innerHTML = docLinkHtml;\n",
              "          element.appendChild(docLink);\n",
              "        }\n",
              "      </script>\n",
              "    </div>\n",
              "  </div>\n",
              "  "
            ]
          },
          "metadata": {},
          "execution_count": 851
        }
      ]
    },
    {
      "cell_type": "code",
      "source": [
        "dataset = df.values\n",
        "X = dataset[:,1:]\n",
        "Y = dataset[:,0]\n",
        "n_fold = 10\n",
        "#X_train, X_test, Y_train, Y_test = train_test_split(X, Y, test_size=0.3, random_state=3)\n",
        "skf = StratifiedKFold(n_splits=n_fold, shuffle=True, random_state=seed)\n",
        "accuracy =[]"
      ],
      "metadata": {
        "id": "A7cSl01Slhbe"
      },
      "execution_count": 852,
      "outputs": []
    },
    {
      "cell_type": "code",
      "source": [
        "from keras import regularizers\n",
        "\n",
        "early_stopping_callback = EarlyStopping(monitor='val_loss', patience=50)\n",
        "#history = model.fit(X_train, Y_train, validation_split=0.2, epochs=1000, batch_size=5, verbose=1, \n",
        "#          callbacks=[early_stopping_callback])\n",
        "#model.fit(X, Y, validation_split=0.2, epochs=1000, batch_size=5, verbose=1, \n",
        "#         callbacks=[early_stopping_callback])\n",
        "for train, test in skf.split(X, Y):\n",
        "    model = Sequential()\n",
        "    model.add(Dense(16, input_dim=24, activation='sigmoid'))\n",
        "    model.add(Dropout(0.25))\n",
        "    model.add(Dense(8, activation='relu'))\n",
        "    model.add(Dropout(0.25))\n",
        "    model.add(Dense(8, activation='relu'))\n",
        "    #model.add(Dropout(0.25))\n",
        "    #model.add(Dense(4, kernel_regularizer=regularizers.l2(0.001), activation='relu'))\n",
        "    #model.add(Dropout(0.25))\n",
        "    model.add(Dense(1, activation='sigmoid'))\n",
        "    model.compile(loss='binary_crossentropy',optimizer='adam',metrics=['binary_accuracy'])\n",
        "    model.fit(X[train], Y[train], validation_split=0.2, epochs=100, batch_size=16, callbacks=[early_stopping_callback])\n",
        "    k_accuracy = \"%.4f\" % (model.evaluate(X[test], Y[test])[1])\n",
        "    accuracy.append(float(k_accuracy))\n",
        "print(\"\\n %.f fold mean accuracy:\" % n_fold, sum(accuracy)/n_fold)"
      ],
      "metadata": {
        "id": "g6bwLrKGmZPb",
        "outputId": "560c45aa-7993-4635-bd35-0f20bf73c765",
        "colab": {
          "base_uri": "https://localhost:8080/",
          "height": 382
        }
      },
      "execution_count": 833,
      "outputs": [
        {
          "output_type": "error",
          "ename": "ValueError",
          "evalue": "ignored",
          "traceback": [
            "\u001b[0;31m---------------------------------------------------------------------------\u001b[0m",
            "\u001b[0;31mValueError\u001b[0m                                Traceback (most recent call last)",
            "\u001b[0;32m<ipython-input-833-681b7266bced>\u001b[0m in \u001b[0;36m<cell line: 8>\u001b[0;34m()\u001b[0m\n\u001b[1;32m      6\u001b[0m \u001b[0;31m#model.fit(X, Y, validation_split=0.2, epochs=1000, batch_size=5, verbose=1,\u001b[0m\u001b[0;34m\u001b[0m\u001b[0;34m\u001b[0m\u001b[0m\n\u001b[1;32m      7\u001b[0m \u001b[0;31m#         callbacks=[early_stopping_callback])\u001b[0m\u001b[0;34m\u001b[0m\u001b[0;34m\u001b[0m\u001b[0m\n\u001b[0;32m----> 8\u001b[0;31m \u001b[0;32mfor\u001b[0m \u001b[0mtrain\u001b[0m\u001b[0;34m,\u001b[0m \u001b[0mtest\u001b[0m \u001b[0;32min\u001b[0m \u001b[0mskf\u001b[0m\u001b[0;34m.\u001b[0m\u001b[0msplit\u001b[0m\u001b[0;34m(\u001b[0m\u001b[0mX\u001b[0m\u001b[0;34m,\u001b[0m \u001b[0mY\u001b[0m\u001b[0;34m)\u001b[0m\u001b[0;34m:\u001b[0m\u001b[0;34m\u001b[0m\u001b[0;34m\u001b[0m\u001b[0m\n\u001b[0m\u001b[1;32m      9\u001b[0m     \u001b[0mmodel\u001b[0m \u001b[0;34m=\u001b[0m \u001b[0mSequential\u001b[0m\u001b[0;34m(\u001b[0m\u001b[0;34m)\u001b[0m\u001b[0;34m\u001b[0m\u001b[0;34m\u001b[0m\u001b[0m\n\u001b[1;32m     10\u001b[0m     \u001b[0mmodel\u001b[0m\u001b[0;34m.\u001b[0m\u001b[0madd\u001b[0m\u001b[0;34m(\u001b[0m\u001b[0mDense\u001b[0m\u001b[0;34m(\u001b[0m\u001b[0;36m16\u001b[0m\u001b[0;34m,\u001b[0m \u001b[0minput_dim\u001b[0m\u001b[0;34m=\u001b[0m\u001b[0;36m24\u001b[0m\u001b[0;34m,\u001b[0m \u001b[0mactivation\u001b[0m\u001b[0;34m=\u001b[0m\u001b[0;34m'sigmoid'\u001b[0m\u001b[0;34m)\u001b[0m\u001b[0;34m)\u001b[0m\u001b[0;34m\u001b[0m\u001b[0;34m\u001b[0m\u001b[0m\n",
            "\u001b[0;32m/usr/local/lib/python3.10/dist-packages/sklearn/model_selection/_split.py\u001b[0m in \u001b[0;36msplit\u001b[0;34m(self, X, y, groups)\u001b[0m\n\u001b[1;32m    350\u001b[0m             )\n\u001b[1;32m    351\u001b[0m \u001b[0;34m\u001b[0m\u001b[0m\n\u001b[0;32m--> 352\u001b[0;31m         \u001b[0;32mfor\u001b[0m \u001b[0mtrain\u001b[0m\u001b[0;34m,\u001b[0m \u001b[0mtest\u001b[0m \u001b[0;32min\u001b[0m \u001b[0msuper\u001b[0m\u001b[0;34m(\u001b[0m\u001b[0;34m)\u001b[0m\u001b[0;34m.\u001b[0m\u001b[0msplit\u001b[0m\u001b[0;34m(\u001b[0m\u001b[0mX\u001b[0m\u001b[0;34m,\u001b[0m \u001b[0my\u001b[0m\u001b[0;34m,\u001b[0m \u001b[0mgroups\u001b[0m\u001b[0;34m)\u001b[0m\u001b[0;34m:\u001b[0m\u001b[0;34m\u001b[0m\u001b[0;34m\u001b[0m\u001b[0m\n\u001b[0m\u001b[1;32m    353\u001b[0m             \u001b[0;32myield\u001b[0m \u001b[0mtrain\u001b[0m\u001b[0;34m,\u001b[0m \u001b[0mtest\u001b[0m\u001b[0;34m\u001b[0m\u001b[0;34m\u001b[0m\u001b[0m\n\u001b[1;32m    354\u001b[0m \u001b[0;34m\u001b[0m\u001b[0m\n",
            "\u001b[0;32m/usr/local/lib/python3.10/dist-packages/sklearn/model_selection/_split.py\u001b[0m in \u001b[0;36msplit\u001b[0;34m(self, X, y, groups)\u001b[0m\n\u001b[1;32m     83\u001b[0m         \u001b[0mX\u001b[0m\u001b[0;34m,\u001b[0m \u001b[0my\u001b[0m\u001b[0;34m,\u001b[0m \u001b[0mgroups\u001b[0m \u001b[0;34m=\u001b[0m \u001b[0mindexable\u001b[0m\u001b[0;34m(\u001b[0m\u001b[0mX\u001b[0m\u001b[0;34m,\u001b[0m \u001b[0my\u001b[0m\u001b[0;34m,\u001b[0m \u001b[0mgroups\u001b[0m\u001b[0;34m)\u001b[0m\u001b[0;34m\u001b[0m\u001b[0;34m\u001b[0m\u001b[0m\n\u001b[1;32m     84\u001b[0m         \u001b[0mindices\u001b[0m \u001b[0;34m=\u001b[0m \u001b[0mnp\u001b[0m\u001b[0;34m.\u001b[0m\u001b[0marange\u001b[0m\u001b[0;34m(\u001b[0m\u001b[0m_num_samples\u001b[0m\u001b[0;34m(\u001b[0m\u001b[0mX\u001b[0m\u001b[0;34m)\u001b[0m\u001b[0;34m)\u001b[0m\u001b[0;34m\u001b[0m\u001b[0;34m\u001b[0m\u001b[0m\n\u001b[0;32m---> 85\u001b[0;31m         \u001b[0;32mfor\u001b[0m \u001b[0mtest_index\u001b[0m \u001b[0;32min\u001b[0m \u001b[0mself\u001b[0m\u001b[0;34m.\u001b[0m\u001b[0m_iter_test_masks\u001b[0m\u001b[0;34m(\u001b[0m\u001b[0mX\u001b[0m\u001b[0;34m,\u001b[0m \u001b[0my\u001b[0m\u001b[0;34m,\u001b[0m \u001b[0mgroups\u001b[0m\u001b[0;34m)\u001b[0m\u001b[0;34m:\u001b[0m\u001b[0;34m\u001b[0m\u001b[0;34m\u001b[0m\u001b[0m\n\u001b[0m\u001b[1;32m     86\u001b[0m             \u001b[0mtrain_index\u001b[0m \u001b[0;34m=\u001b[0m \u001b[0mindices\u001b[0m\u001b[0;34m[\u001b[0m\u001b[0mnp\u001b[0m\u001b[0;34m.\u001b[0m\u001b[0mlogical_not\u001b[0m\u001b[0;34m(\u001b[0m\u001b[0mtest_index\u001b[0m\u001b[0;34m)\u001b[0m\u001b[0;34m]\u001b[0m\u001b[0;34m\u001b[0m\u001b[0;34m\u001b[0m\u001b[0m\n\u001b[1;32m     87\u001b[0m             \u001b[0mtest_index\u001b[0m \u001b[0;34m=\u001b[0m \u001b[0mindices\u001b[0m\u001b[0;34m[\u001b[0m\u001b[0mtest_index\u001b[0m\u001b[0;34m]\u001b[0m\u001b[0;34m\u001b[0m\u001b[0;34m\u001b[0m\u001b[0m\n",
            "\u001b[0;32m/usr/local/lib/python3.10/dist-packages/sklearn/model_selection/_split.py\u001b[0m in \u001b[0;36m_iter_test_masks\u001b[0;34m(self, X, y, groups)\u001b[0m\n\u001b[1;32m    731\u001b[0m \u001b[0;34m\u001b[0m\u001b[0m\n\u001b[1;32m    732\u001b[0m     \u001b[0;32mdef\u001b[0m \u001b[0m_iter_test_masks\u001b[0m\u001b[0;34m(\u001b[0m\u001b[0mself\u001b[0m\u001b[0;34m,\u001b[0m \u001b[0mX\u001b[0m\u001b[0;34m,\u001b[0m \u001b[0my\u001b[0m\u001b[0;34m=\u001b[0m\u001b[0;32mNone\u001b[0m\u001b[0;34m,\u001b[0m \u001b[0mgroups\u001b[0m\u001b[0;34m=\u001b[0m\u001b[0;32mNone\u001b[0m\u001b[0;34m)\u001b[0m\u001b[0;34m:\u001b[0m\u001b[0;34m\u001b[0m\u001b[0;34m\u001b[0m\u001b[0m\n\u001b[0;32m--> 733\u001b[0;31m         \u001b[0mtest_folds\u001b[0m \u001b[0;34m=\u001b[0m \u001b[0mself\u001b[0m\u001b[0;34m.\u001b[0m\u001b[0m_make_test_folds\u001b[0m\u001b[0;34m(\u001b[0m\u001b[0mX\u001b[0m\u001b[0;34m,\u001b[0m \u001b[0my\u001b[0m\u001b[0;34m)\u001b[0m\u001b[0;34m\u001b[0m\u001b[0;34m\u001b[0m\u001b[0m\n\u001b[0m\u001b[1;32m    734\u001b[0m         \u001b[0;32mfor\u001b[0m \u001b[0mi\u001b[0m \u001b[0;32min\u001b[0m \u001b[0mrange\u001b[0m\u001b[0;34m(\u001b[0m\u001b[0mself\u001b[0m\u001b[0;34m.\u001b[0m\u001b[0mn_splits\u001b[0m\u001b[0;34m)\u001b[0m\u001b[0;34m:\u001b[0m\u001b[0;34m\u001b[0m\u001b[0;34m\u001b[0m\u001b[0m\n\u001b[1;32m    735\u001b[0m             \u001b[0;32myield\u001b[0m \u001b[0mtest_folds\u001b[0m \u001b[0;34m==\u001b[0m \u001b[0mi\u001b[0m\u001b[0;34m\u001b[0m\u001b[0;34m\u001b[0m\u001b[0m\n",
            "\u001b[0;32m/usr/local/lib/python3.10/dist-packages/sklearn/model_selection/_split.py\u001b[0m in \u001b[0;36m_make_test_folds\u001b[0;34m(self, X, y)\u001b[0m\n\u001b[1;32m    674\u001b[0m         \u001b[0mallowed_target_types\u001b[0m \u001b[0;34m=\u001b[0m \u001b[0;34m(\u001b[0m\u001b[0;34m\"binary\"\u001b[0m\u001b[0;34m,\u001b[0m \u001b[0;34m\"multiclass\"\u001b[0m\u001b[0;34m)\u001b[0m\u001b[0;34m\u001b[0m\u001b[0;34m\u001b[0m\u001b[0m\n\u001b[1;32m    675\u001b[0m         \u001b[0;32mif\u001b[0m \u001b[0mtype_of_target_y\u001b[0m \u001b[0;32mnot\u001b[0m \u001b[0;32min\u001b[0m \u001b[0mallowed_target_types\u001b[0m\u001b[0;34m:\u001b[0m\u001b[0;34m\u001b[0m\u001b[0;34m\u001b[0m\u001b[0m\n\u001b[0;32m--> 676\u001b[0;31m             raise ValueError(\n\u001b[0m\u001b[1;32m    677\u001b[0m                 \"Supported target types are: {}. Got {!r} instead.\".format(\n\u001b[1;32m    678\u001b[0m                     \u001b[0mallowed_target_types\u001b[0m\u001b[0;34m,\u001b[0m \u001b[0mtype_of_target_y\u001b[0m\u001b[0;34m\u001b[0m\u001b[0;34m\u001b[0m\u001b[0m\n",
            "\u001b[0;31mValueError\u001b[0m: Supported target types are: ('binary', 'multiclass'). Got 'continuous' instead."
          ]
        }
      ]
    },
    {
      "cell_type": "code",
      "source": [
        "accuracy"
      ],
      "metadata": {
        "id": "ol6cpWWTQ418",
        "outputId": "cb32e462-f15c-41c2-ddb0-a65ff8e8a6b4",
        "colab": {
          "base_uri": "https://localhost:8080/"
        }
      },
      "execution_count": 783,
      "outputs": [
        {
          "output_type": "execute_result",
          "data": {
            "text/plain": [
              "[0.8222, 0.809, 0.8652, 0.8764, 0.8539, 0.8202, 0.7978, 0.8202, 0.7865, 0.809]"
            ]
          },
          "metadata": {},
          "execution_count": 783
        }
      ]
    },
    {
      "cell_type": "code",
      "source": [
        "from keras import regularizers\n",
        "model = Sequential()\n",
        "model.add(Dense(16, input_dim=24, activation='sigmoid'))\n",
        "model.add(Dropout(0.25))\n",
        "model.add(Dense(8, activation='relu'))\n",
        "model.add(Dropout(0.25))\n",
        "model.add(Dense(8, activation='relu'))\n",
        "#model.add(Dense(4, kernel_regularizer=regularizers.l2(0.001), activation='relu'))\n",
        "#model.add(Dropout(0.25))\n",
        "model.add(Dense(1, activation='sigmoid'))\n",
        "model.compile(loss='binary_crossentropy',optimizer='adam',metrics=['accuracy'])\n",
        "model.fit(X, Y, epochs=100, batch_size=16, verbose=1)"
      ],
      "metadata": {
        "id": "Ta5oADPjFFY5",
        "outputId": "bfed0f99-85e9-4171-e913-7e6aa4c24ec2",
        "colab": {
          "base_uri": "https://localhost:8080/"
        }
      },
      "execution_count": 784,
      "outputs": [
        {
          "output_type": "stream",
          "name": "stdout",
          "text": [
            "Epoch 1/100\n",
            "56/56 [==============================] - 1s 2ms/step - loss: 0.6751 - accuracy: 0.5926\n",
            "Epoch 2/100\n",
            "56/56 [==============================] - 0s 2ms/step - loss: 0.6609 - accuracy: 0.6128\n",
            "Epoch 3/100\n",
            "56/56 [==============================] - 0s 2ms/step - loss: 0.6506 - accuracy: 0.6016\n",
            "Epoch 4/100\n",
            "56/56 [==============================] - 0s 2ms/step - loss: 0.6483 - accuracy: 0.6218\n",
            "Epoch 5/100\n",
            "56/56 [==============================] - 0s 2ms/step - loss: 0.6239 - accuracy: 0.6263\n",
            "Epoch 6/100\n",
            "56/56 [==============================] - 0s 2ms/step - loss: 0.6272 - accuracy: 0.6543\n",
            "Epoch 7/100\n",
            "56/56 [==============================] - 0s 2ms/step - loss: 0.5966 - accuracy: 0.6835\n",
            "Epoch 8/100\n",
            "56/56 [==============================] - 0s 2ms/step - loss: 0.5911 - accuracy: 0.7048\n",
            "Epoch 9/100\n",
            "56/56 [==============================] - 0s 2ms/step - loss: 0.5883 - accuracy: 0.6880\n",
            "Epoch 10/100\n",
            "56/56 [==============================] - 0s 2ms/step - loss: 0.5690 - accuracy: 0.7082\n",
            "Epoch 11/100\n",
            "56/56 [==============================] - 0s 2ms/step - loss: 0.5416 - accuracy: 0.7385\n",
            "Epoch 12/100\n",
            "56/56 [==============================] - 0s 2ms/step - loss: 0.5481 - accuracy: 0.7250\n",
            "Epoch 13/100\n",
            "56/56 [==============================] - 0s 2ms/step - loss: 0.5336 - accuracy: 0.7430\n",
            "Epoch 14/100\n",
            "56/56 [==============================] - 0s 2ms/step - loss: 0.5210 - accuracy: 0.7497\n",
            "Epoch 15/100\n",
            "56/56 [==============================] - 0s 2ms/step - loss: 0.5232 - accuracy: 0.7576\n",
            "Epoch 16/100\n",
            "56/56 [==============================] - 0s 2ms/step - loss: 0.5121 - accuracy: 0.7553\n",
            "Epoch 17/100\n",
            "56/56 [==============================] - 0s 2ms/step - loss: 0.5079 - accuracy: 0.7598\n",
            "Epoch 18/100\n",
            "56/56 [==============================] - 0s 2ms/step - loss: 0.4977 - accuracy: 0.7811\n",
            "Epoch 19/100\n",
            "56/56 [==============================] - 0s 2ms/step - loss: 0.5022 - accuracy: 0.7632\n",
            "Epoch 20/100\n",
            "56/56 [==============================] - 0s 2ms/step - loss: 0.4986 - accuracy: 0.7643\n",
            "Epoch 21/100\n",
            "56/56 [==============================] - 0s 2ms/step - loss: 0.5098 - accuracy: 0.7666\n",
            "Epoch 22/100\n",
            "56/56 [==============================] - 0s 2ms/step - loss: 0.4802 - accuracy: 0.7811\n",
            "Epoch 23/100\n",
            "56/56 [==============================] - 0s 2ms/step - loss: 0.4743 - accuracy: 0.7722\n",
            "Epoch 24/100\n",
            "56/56 [==============================] - 0s 2ms/step - loss: 0.4723 - accuracy: 0.7733\n",
            "Epoch 25/100\n",
            "56/56 [==============================] - 0s 2ms/step - loss: 0.4764 - accuracy: 0.7834\n",
            "Epoch 26/100\n",
            "56/56 [==============================] - 0s 2ms/step - loss: 0.4757 - accuracy: 0.7856\n",
            "Epoch 27/100\n",
            "56/56 [==============================] - 0s 2ms/step - loss: 0.4864 - accuracy: 0.7710\n",
            "Epoch 28/100\n",
            "56/56 [==============================] - 0s 2ms/step - loss: 0.4623 - accuracy: 0.7879\n",
            "Epoch 29/100\n",
            "56/56 [==============================] - 0s 2ms/step - loss: 0.4793 - accuracy: 0.7980\n",
            "Epoch 30/100\n",
            "56/56 [==============================] - 0s 2ms/step - loss: 0.4789 - accuracy: 0.7924\n",
            "Epoch 31/100\n",
            "56/56 [==============================] - 0s 2ms/step - loss: 0.4826 - accuracy: 0.7980\n",
            "Epoch 32/100\n",
            "56/56 [==============================] - 0s 2ms/step - loss: 0.4571 - accuracy: 0.8013\n",
            "Epoch 33/100\n",
            "56/56 [==============================] - 0s 2ms/step - loss: 0.4548 - accuracy: 0.8103\n",
            "Epoch 34/100\n",
            "56/56 [==============================] - 0s 2ms/step - loss: 0.4400 - accuracy: 0.8159\n",
            "Epoch 35/100\n",
            "56/56 [==============================] - 0s 2ms/step - loss: 0.4445 - accuracy: 0.8204\n",
            "Epoch 36/100\n",
            "56/56 [==============================] - 0s 2ms/step - loss: 0.4596 - accuracy: 0.8103\n",
            "Epoch 37/100\n",
            "56/56 [==============================] - 0s 2ms/step - loss: 0.4530 - accuracy: 0.8002\n",
            "Epoch 38/100\n",
            "56/56 [==============================] - 0s 2ms/step - loss: 0.4568 - accuracy: 0.8126\n",
            "Epoch 39/100\n",
            "56/56 [==============================] - 0s 2ms/step - loss: 0.4301 - accuracy: 0.8238\n",
            "Epoch 40/100\n",
            "56/56 [==============================] - 0s 2ms/step - loss: 0.4489 - accuracy: 0.8058\n",
            "Epoch 41/100\n",
            "56/56 [==============================] - 0s 2ms/step - loss: 0.4465 - accuracy: 0.8103\n",
            "Epoch 42/100\n",
            "56/56 [==============================] - 0s 2ms/step - loss: 0.4550 - accuracy: 0.8081\n",
            "Epoch 43/100\n",
            "56/56 [==============================] - 0s 2ms/step - loss: 0.4451 - accuracy: 0.8227\n",
            "Epoch 44/100\n",
            "56/56 [==============================] - 0s 2ms/step - loss: 0.4445 - accuracy: 0.8114\n",
            "Epoch 45/100\n",
            "56/56 [==============================] - 0s 2ms/step - loss: 0.4518 - accuracy: 0.8193\n",
            "Epoch 46/100\n",
            "56/56 [==============================] - 0s 2ms/step - loss: 0.4414 - accuracy: 0.8249\n",
            "Epoch 47/100\n",
            "56/56 [==============================] - 0s 2ms/step - loss: 0.4543 - accuracy: 0.8171\n",
            "Epoch 48/100\n",
            "56/56 [==============================] - 0s 2ms/step - loss: 0.4366 - accuracy: 0.8114\n",
            "Epoch 49/100\n",
            "56/56 [==============================] - 0s 2ms/step - loss: 0.4281 - accuracy: 0.8215\n",
            "Epoch 50/100\n",
            "56/56 [==============================] - 0s 2ms/step - loss: 0.4239 - accuracy: 0.8238\n",
            "Epoch 51/100\n",
            "56/56 [==============================] - 0s 2ms/step - loss: 0.4367 - accuracy: 0.8193\n",
            "Epoch 52/100\n",
            "56/56 [==============================] - 0s 2ms/step - loss: 0.4268 - accuracy: 0.8283\n",
            "Epoch 53/100\n",
            "56/56 [==============================] - 0s 2ms/step - loss: 0.4153 - accuracy: 0.8328\n",
            "Epoch 54/100\n",
            "56/56 [==============================] - 0s 2ms/step - loss: 0.4491 - accuracy: 0.8047\n",
            "Epoch 55/100\n",
            "56/56 [==============================] - 0s 2ms/step - loss: 0.4264 - accuracy: 0.8182\n",
            "Epoch 56/100\n",
            "56/56 [==============================] - 0s 2ms/step - loss: 0.4396 - accuracy: 0.8204\n",
            "Epoch 57/100\n",
            "56/56 [==============================] - 0s 2ms/step - loss: 0.4470 - accuracy: 0.8081\n",
            "Epoch 58/100\n",
            "56/56 [==============================] - 0s 3ms/step - loss: 0.4190 - accuracy: 0.8103\n",
            "Epoch 59/100\n",
            "56/56 [==============================] - 0s 3ms/step - loss: 0.4354 - accuracy: 0.8182\n",
            "Epoch 60/100\n",
            "56/56 [==============================] - 0s 3ms/step - loss: 0.4280 - accuracy: 0.8384\n",
            "Epoch 61/100\n",
            "56/56 [==============================] - 0s 3ms/step - loss: 0.4241 - accuracy: 0.8272\n",
            "Epoch 62/100\n",
            "56/56 [==============================] - 0s 3ms/step - loss: 0.4245 - accuracy: 0.8215\n",
            "Epoch 63/100\n",
            "56/56 [==============================] - 0s 3ms/step - loss: 0.4356 - accuracy: 0.8204\n",
            "Epoch 64/100\n",
            "56/56 [==============================] - 0s 3ms/step - loss: 0.4376 - accuracy: 0.8092\n",
            "Epoch 65/100\n",
            "56/56 [==============================] - 0s 3ms/step - loss: 0.4299 - accuracy: 0.8238\n",
            "Epoch 66/100\n",
            "56/56 [==============================] - 0s 3ms/step - loss: 0.4381 - accuracy: 0.8047\n",
            "Epoch 67/100\n",
            "56/56 [==============================] - 0s 3ms/step - loss: 0.4273 - accuracy: 0.8159\n",
            "Epoch 68/100\n",
            "56/56 [==============================] - 0s 3ms/step - loss: 0.4051 - accuracy: 0.8361\n",
            "Epoch 69/100\n",
            "56/56 [==============================] - 0s 3ms/step - loss: 0.4316 - accuracy: 0.8283\n",
            "Epoch 70/100\n",
            "56/56 [==============================] - 0s 3ms/step - loss: 0.4168 - accuracy: 0.8328\n",
            "Epoch 71/100\n",
            "56/56 [==============================] - 0s 3ms/step - loss: 0.4097 - accuracy: 0.8272\n",
            "Epoch 72/100\n",
            "56/56 [==============================] - 0s 4ms/step - loss: 0.4223 - accuracy: 0.8193\n",
            "Epoch 73/100\n",
            "56/56 [==============================] - 0s 3ms/step - loss: 0.4251 - accuracy: 0.8328\n",
            "Epoch 74/100\n",
            "56/56 [==============================] - 0s 3ms/step - loss: 0.4336 - accuracy: 0.8171\n",
            "Epoch 75/100\n",
            "56/56 [==============================] - 0s 2ms/step - loss: 0.4229 - accuracy: 0.8204\n",
            "Epoch 76/100\n",
            "56/56 [==============================] - 0s 2ms/step - loss: 0.4276 - accuracy: 0.8058\n",
            "Epoch 77/100\n",
            "56/56 [==============================] - 0s 2ms/step - loss: 0.4134 - accuracy: 0.8294\n",
            "Epoch 78/100\n",
            "56/56 [==============================] - 0s 2ms/step - loss: 0.4061 - accuracy: 0.8339\n",
            "Epoch 79/100\n",
            "56/56 [==============================] - 0s 2ms/step - loss: 0.4070 - accuracy: 0.8406\n",
            "Epoch 80/100\n",
            "56/56 [==============================] - 0s 2ms/step - loss: 0.4209 - accuracy: 0.8339\n",
            "Epoch 81/100\n",
            "56/56 [==============================] - 0s 2ms/step - loss: 0.4131 - accuracy: 0.8373\n",
            "Epoch 82/100\n",
            "56/56 [==============================] - 0s 2ms/step - loss: 0.4189 - accuracy: 0.8238\n",
            "Epoch 83/100\n",
            "56/56 [==============================] - 0s 2ms/step - loss: 0.4238 - accuracy: 0.8249\n",
            "Epoch 84/100\n",
            "56/56 [==============================] - 0s 2ms/step - loss: 0.4171 - accuracy: 0.8283\n",
            "Epoch 85/100\n",
            "56/56 [==============================] - 0s 2ms/step - loss: 0.4301 - accuracy: 0.8137\n",
            "Epoch 86/100\n",
            "56/56 [==============================] - 0s 2ms/step - loss: 0.4102 - accuracy: 0.8316\n",
            "Epoch 87/100\n",
            "56/56 [==============================] - 0s 2ms/step - loss: 0.4323 - accuracy: 0.8148\n",
            "Epoch 88/100\n",
            "56/56 [==============================] - 0s 2ms/step - loss: 0.4229 - accuracy: 0.8227\n",
            "Epoch 89/100\n",
            "56/56 [==============================] - 0s 2ms/step - loss: 0.4181 - accuracy: 0.8249\n",
            "Epoch 90/100\n",
            "56/56 [==============================] - 0s 2ms/step - loss: 0.4268 - accuracy: 0.8215\n",
            "Epoch 91/100\n",
            "56/56 [==============================] - 0s 2ms/step - loss: 0.4288 - accuracy: 0.8238\n",
            "Epoch 92/100\n",
            "56/56 [==============================] - 0s 2ms/step - loss: 0.4251 - accuracy: 0.8272\n",
            "Epoch 93/100\n",
            "56/56 [==============================] - 0s 2ms/step - loss: 0.4184 - accuracy: 0.8305\n",
            "Epoch 94/100\n",
            "56/56 [==============================] - 0s 2ms/step - loss: 0.4018 - accuracy: 0.8361\n",
            "Epoch 95/100\n",
            "56/56 [==============================] - 0s 2ms/step - loss: 0.4156 - accuracy: 0.8316\n",
            "Epoch 96/100\n",
            "56/56 [==============================] - 0s 2ms/step - loss: 0.4343 - accuracy: 0.8171\n",
            "Epoch 97/100\n",
            "56/56 [==============================] - 0s 2ms/step - loss: 0.4134 - accuracy: 0.8361\n",
            "Epoch 98/100\n",
            "56/56 [==============================] - 0s 2ms/step - loss: 0.4171 - accuracy: 0.8227\n",
            "Epoch 99/100\n",
            "56/56 [==============================] - 0s 2ms/step - loss: 0.4031 - accuracy: 0.8474\n",
            "Epoch 100/100\n",
            "56/56 [==============================] - 0s 2ms/step - loss: 0.3954 - accuracy: 0.8384\n"
          ]
        },
        {
          "output_type": "execute_result",
          "data": {
            "text/plain": [
              "<keras.callbacks.History at 0x7fcc31111060>"
            ]
          },
          "metadata": {},
          "execution_count": 784
        }
      ]
    },
    {
      "cell_type": "code",
      "source": [
        "model_vloss = history.history['val_loss'][10:]\n",
        "model_loss = history.history['loss'][10:]\n",
        "x_len = np.arange(len(model_loss))\n",
        "\n",
        "plt.plot(x_len, model_vloss, \"o\", c=\"red\", markersize=3)\n",
        "plt.plot(x_len, model_loss, \"o\", c=\"blue\", markersize=3)\n",
        "plt.show()\n",
        "\n",
        "print(\"\\n Accurarcy: %.4f\" % (model.evaluate(X_test, Y_test)[1]))"
      ],
      "metadata": {
        "id": "mlAc76SinTNY",
        "outputId": "bdf7b885-4764-41cf-a48f-4675a15bd46a",
        "colab": {
          "base_uri": "https://localhost:8080/",
          "height": 482
        }
      },
      "execution_count": null,
      "outputs": [
        {
          "output_type": "display_data",
          "data": {
            "text/plain": [
              "<Figure size 640x480 with 1 Axes>"
            ],
            "image/png": "[encoded data removed]"
          },
          "metadata": {}
        },
        {
          "output_type": "stream",
          "name": "stdout",
          "text": [
            "9/9 [==============================] - 0s 2ms/step - loss: 0.4571 - accuracy: 0.7873\n",
            "\n",
            " Accurarcy: 0.7873\n"
          ]
        }
      ]
    },
    {
      "cell_type": "code",
      "source": [
        "model.save('please.h5')"
      ],
      "metadata": {
        "id": "1UKmU6Rxa8y4"
      },
      "execution_count": 785,
      "outputs": []
    },
    {
      "cell_type": "code",
      "source": [
        "model = load_model('please.h5')\n",
        "Y_prediction = model.predict(dataset).flatten()\n",
        "\n",
        "\n"
      ],
      "metadata": {
        "id": "CYLRla1ncEQ8",
        "outputId": "83976976-4f9b-40f4-f0c2-fe50155a913e",
        "colab": {
          "base_uri": "https://localhost:8080/"
        }
      },
      "execution_count": 853,
      "outputs": [
        {
          "output_type": "stream",
          "name": "stdout",
          "text": [
            "41/41 [==============================] - 0s 1ms/step\n"
          ]
        }
      ]
    },
    {
      "cell_type": "code",
      "source": [
        "len(Y_prediction[891:])"
      ],
      "metadata": {
        "id": "X5DyyB0wm4Wt",
        "outputId": "9d0ff4d9-2ff9-4f23-ebde-6a0ef4a74809",
        "colab": {
          "base_uri": "https://localhost:8080/"
        }
      },
      "execution_count": null,
      "outputs": [
        {
          "output_type": "execute_result",
          "data": {
            "text/plain": [
              "418"
            ]
          },
          "metadata": {},
          "execution_count": 67
        }
      ]
    },
    {
      "cell_type": "code",
      "source": [
        "submission = pd.read_csv('gender_submission.csv')\n",
        "submission['Survived'] = Y_prediction[891:]\n",
        "submission.loc[submission['Survived'] < 0.5 ,'Survived'] = 0\n",
        "submission.loc[submission['Survived'] >= 0.5 ,'Survived'] = 1\n",
        "submission['Survived'] = submission['Survived'].astype(int)\n",
        "submission.to_csv('sub.csv',index=False)"
      ],
      "metadata": {
        "id": "Gy3q57IEfg0j"
      },
      "execution_count": 855,
      "outputs": []
    },
    {
      "cell_type": "code",
      "source": [
        "#Y_prediction = model.predict(X_test).flatten()\n",
        "osub = pd.read_csv(\"sub.csv\")\n",
        "\n",
        "#Y_pred_old = osub['Survived']\n",
        "\n",
        "#plt.plot(range(len(Y_test)), Y_test, \"o\", c=\"red\", markersize=3)\n",
        "plt.plot(range(len(osub)), osub['Survived'], \"o\", c=\"blue\", markersize=3)\n",
        "#plt.plot(range(len(Y_prediction)), Y_pred_old, \"o\", c='red', markersize=3)\n",
        "plt.show()"
      ],
      "metadata": {
        "id": "o271V5Fkobdf",
        "outputId": "b4fdd424-b775-4935-a490-ffd803956dc6",
        "colab": {
          "base_uri": "https://localhost:8080/",
          "height": 430
        }
      },
      "execution_count": 861,
      "outputs": [
        {
          "output_type": "display_data",
          "data": {
            "text/plain": [
              "<Figure size 640x480 with 1 Axes>"
            ],
            "image/png": "[encoded data removed]"
          },
          "metadata": {}
        }
      ]
    },
    {
      "cell_type": "code",
      "source": [
        "t = df['Name'].str.extract(' ([A-Za-z]+)\\.', expand=False)\n",
        "pd.DataFrame(t).value_counts()"
      ],
      "metadata": {
        "colab": {
          "base_uri": "https://localhost:8080/",
          "height": 504
        },
        "id": "vtYiMOPq_lCo",
        "outputId": "002535a4-a22c-46a4-d75b-12372c5f0dcb"
      },
      "execution_count": null,
      "outputs": [
        {
          "output_type": "error",
          "ename": "KeyError",
          "evalue": "ignored",
          "traceback": [
            "\u001b[0;31m---------------------------------------------------------------------------\u001b[0m",
            "\u001b[0;31mKeyError\u001b[0m                                  Traceback (most recent call last)",
            "\u001b[0;32m/usr/local/lib/python3.10/dist-packages/pandas/core/indexes/base.py\u001b[0m in \u001b[0;36mget_loc\u001b[0;34m(self, key, method, tolerance)\u001b[0m\n\u001b[1;32m   3801\u001b[0m             \u001b[0;32mtry\u001b[0m\u001b[0;34m:\u001b[0m\u001b[0;34m\u001b[0m\u001b[0;34m\u001b[0m\u001b[0m\n\u001b[0;32m-> 3802\u001b[0;31m                 \u001b[0;32mreturn\u001b[0m \u001b[0mself\u001b[0m\u001b[0;34m.\u001b[0m\u001b[0m_engine\u001b[0m\u001b[0;34m.\u001b[0m\u001b[0mget_loc\u001b[0m\u001b[0;34m(\u001b[0m\u001b[0mcasted_key\u001b[0m\u001b[0;34m)\u001b[0m\u001b[0;34m\u001b[0m\u001b[0;34m\u001b[0m\u001b[0m\n\u001b[0m\u001b[1;32m   3803\u001b[0m             \u001b[0;32mexcept\u001b[0m \u001b[0mKeyError\u001b[0m \u001b[0;32mas\u001b[0m \u001b[0merr\u001b[0m\u001b[0;34m:\u001b[0m\u001b[0;34m\u001b[0m\u001b[0;34m\u001b[0m\u001b[0m\n",
            "\u001b[0;32m/usr/local/lib/python3.10/dist-packages/pandas/_libs/index.pyx\u001b[0m in \u001b[0;36mpandas._libs.index.IndexEngine.get_loc\u001b[0;34m()\u001b[0m\n",
            "\u001b[0;32m/usr/local/lib/python3.10/dist-packages/pandas/_libs/index.pyx\u001b[0m in \u001b[0;36mpandas._libs.index.IndexEngine.get_loc\u001b[0;34m()\u001b[0m\n",
            "\u001b[0;32mpandas/_libs/hashtable_class_helper.pxi\u001b[0m in \u001b[0;36mpandas._libs.hashtable.PyObjectHashTable.get_item\u001b[0;34m()\u001b[0m\n",
            "\u001b[0;32mpandas/_libs/hashtable_class_helper.pxi\u001b[0m in \u001b[0;36mpandas._libs.hashtable.PyObjectHashTable.get_item\u001b[0;34m()\u001b[0m\n",
            "\u001b[0;31mKeyError\u001b[0m: 'Name'",
            "\nThe above exception was the direct cause of the following exception:\n",
            "\u001b[0;31mKeyError\u001b[0m                                  Traceback (most recent call last)",
            "\u001b[0;32m<ipython-input-21-14fb102119fa>\u001b[0m in \u001b[0;36m<cell line: 1>\u001b[0;34m()\u001b[0m\n\u001b[0;32m----> 1\u001b[0;31m \u001b[0mt\u001b[0m \u001b[0;34m=\u001b[0m \u001b[0mdf\u001b[0m\u001b[0;34m[\u001b[0m\u001b[0;34m'Name'\u001b[0m\u001b[0;34m]\u001b[0m\u001b[0;34m.\u001b[0m\u001b[0mstr\u001b[0m\u001b[0;34m.\u001b[0m\u001b[0mextract\u001b[0m\u001b[0;34m(\u001b[0m\u001b[0;34m' ([A-Za-z]+)\\.'\u001b[0m\u001b[0;34m,\u001b[0m \u001b[0mexpand\u001b[0m\u001b[0;34m=\u001b[0m\u001b[0;32mFalse\u001b[0m\u001b[0;34m)\u001b[0m\u001b[0;34m\u001b[0m\u001b[0;34m\u001b[0m\u001b[0m\n\u001b[0m\u001b[1;32m      2\u001b[0m \u001b[0mpd\u001b[0m\u001b[0;34m.\u001b[0m\u001b[0mDataFrame\u001b[0m\u001b[0;34m(\u001b[0m\u001b[0mt\u001b[0m\u001b[0;34m)\u001b[0m\u001b[0;34m.\u001b[0m\u001b[0mvalue_counts\u001b[0m\u001b[0;34m(\u001b[0m\u001b[0;34m)\u001b[0m\u001b[0;34m\u001b[0m\u001b[0;34m\u001b[0m\u001b[0m\n",
            "\u001b[0;32m/usr/local/lib/python3.10/dist-packages/pandas/core/frame.py\u001b[0m in \u001b[0;36m__getitem__\u001b[0;34m(self, key)\u001b[0m\n\u001b[1;32m   3805\u001b[0m             \u001b[0;32mif\u001b[0m \u001b[0mself\u001b[0m\u001b[0;34m.\u001b[0m\u001b[0mcolumns\u001b[0m\u001b[0;34m.\u001b[0m\u001b[0mnlevels\u001b[0m \u001b[0;34m>\u001b[0m \u001b[0;36m1\u001b[0m\u001b[0;34m:\u001b[0m\u001b[0;34m\u001b[0m\u001b[0;34m\u001b[0m\u001b[0m\n\u001b[1;32m   3806\u001b[0m                 \u001b[0;32mreturn\u001b[0m \u001b[0mself\u001b[0m\u001b[0;34m.\u001b[0m\u001b[0m_getitem_multilevel\u001b[0m\u001b[0;34m(\u001b[0m\u001b[0mkey\u001b[0m\u001b[0;34m)\u001b[0m\u001b[0;34m\u001b[0m\u001b[0;34m\u001b[0m\u001b[0m\n\u001b[0;32m-> 3807\u001b[0;31m             \u001b[0mindexer\u001b[0m \u001b[0;34m=\u001b[0m \u001b[0mself\u001b[0m\u001b[0;34m.\u001b[0m\u001b[0mcolumns\u001b[0m\u001b[0;34m.\u001b[0m\u001b[0mget_loc\u001b[0m\u001b[0;34m(\u001b[0m\u001b[0mkey\u001b[0m\u001b[0;34m)\u001b[0m\u001b[0;34m\u001b[0m\u001b[0;34m\u001b[0m\u001b[0m\n\u001b[0m\u001b[1;32m   3808\u001b[0m             \u001b[0;32mif\u001b[0m \u001b[0mis_integer\u001b[0m\u001b[0;34m(\u001b[0m\u001b[0mindexer\u001b[0m\u001b[0;34m)\u001b[0m\u001b[0;34m:\u001b[0m\u001b[0;34m\u001b[0m\u001b[0;34m\u001b[0m\u001b[0m\n\u001b[1;32m   3809\u001b[0m                 \u001b[0mindexer\u001b[0m \u001b[0;34m=\u001b[0m \u001b[0;34m[\u001b[0m\u001b[0mindexer\u001b[0m\u001b[0;34m]\u001b[0m\u001b[0;34m\u001b[0m\u001b[0;34m\u001b[0m\u001b[0m\n",
            "\u001b[0;32m/usr/local/lib/python3.10/dist-packages/pandas/core/indexes/base.py\u001b[0m in \u001b[0;36mget_loc\u001b[0;34m(self, key, method, tolerance)\u001b[0m\n\u001b[1;32m   3802\u001b[0m                 \u001b[0;32mreturn\u001b[0m \u001b[0mself\u001b[0m\u001b[0;34m.\u001b[0m\u001b[0m_engine\u001b[0m\u001b[0;34m.\u001b[0m\u001b[0mget_loc\u001b[0m\u001b[0;34m(\u001b[0m\u001b[0mcasted_key\u001b[0m\u001b[0;34m)\u001b[0m\u001b[0;34m\u001b[0m\u001b[0;34m\u001b[0m\u001b[0m\n\u001b[1;32m   3803\u001b[0m             \u001b[0;32mexcept\u001b[0m \u001b[0mKeyError\u001b[0m \u001b[0;32mas\u001b[0m \u001b[0merr\u001b[0m\u001b[0;34m:\u001b[0m\u001b[0;34m\u001b[0m\u001b[0;34m\u001b[0m\u001b[0m\n\u001b[0;32m-> 3804\u001b[0;31m                 \u001b[0;32mraise\u001b[0m \u001b[0mKeyError\u001b[0m\u001b[0;34m(\u001b[0m\u001b[0mkey\u001b[0m\u001b[0;34m)\u001b[0m \u001b[0;32mfrom\u001b[0m \u001b[0merr\u001b[0m\u001b[0;34m\u001b[0m\u001b[0;34m\u001b[0m\u001b[0m\n\u001b[0m\u001b[1;32m   3805\u001b[0m             \u001b[0;32mexcept\u001b[0m \u001b[0mTypeError\u001b[0m\u001b[0;34m:\u001b[0m\u001b[0;34m\u001b[0m\u001b[0;34m\u001b[0m\u001b[0m\n\u001b[1;32m   3806\u001b[0m                 \u001b[0;31m# If we have a listlike key, _check_indexing_error will raise\u001b[0m\u001b[0;34m\u001b[0m\u001b[0;34m\u001b[0m\u001b[0m\n",
            "\u001b[0;31mKeyError\u001b[0m: 'Name'"
          ]
        }
      ]
    },
    {
      "cell_type": "code",
      "source": [
        "df['FBand'] = pd.cut(df['Fare'], 7)\n",
        "df[['FBand','Survived']].groupby(['FBand'], as_index=False).mean()"
      ],
      "metadata": {
        "id": "hfTIJaeFv7PT"
      },
      "execution_count": null,
      "outputs": []
    },
    {
      "cell_type": "code",
      "source": [
        "df['Ncabin'] = df['Cabin'].str.extract('([A-G])', expand=False)\n",
        "pd.crosstab(df['Ncabin'],df['Survived'])"
      ],
      "metadata": {
        "id": "Fy8RE1S8Gswe"
      },
      "execution_count": null,
      "outputs": []
    },
    {
      "cell_type": "code",
      "source": [
        "df[['Embarked','Fare']].groupby(['Embarked'], as_index=False).mean()\n",
        "df[['Pclass','Fare']].groupby(['Pclass'], as_index=False).mean()"
      ],
      "metadata": {
        "id": "u5IQkdndMNSf"
      },
      "execution_count": null,
      "outputs": []
    },
    {
      "cell_type": "code",
      "source": [
        "df.info()\n",
        "df[df['Embarked'].isnull()]"
      ],
      "metadata": {
        "id": "rg5-yYe3VHAq"
      },
      "execution_count": null,
      "outputs": []
    },
    {
      "cell_type": "code",
      "source": [
        "df[['Ncabin','Survived']].groupby('Ncabin').mean()"
      ],
      "metadata": {
        "id": "CVGL4yGtbs5x"
      },
      "execution_count": null,
      "outputs": []
    },
    {
      "cell_type": "code",
      "source": [
        "submit1 = pd.read_csv('sub.csv')\n",
        "submit2 = pd.read_csv('sub1.csv')"
      ],
      "metadata": {
        "id": "EUyWlIDtxAoP"
      },
      "execution_count": 858,
      "outputs": []
    },
    {
      "cell_type": "code",
      "source": [
        "submit1[submit1['Survived'] == submit2['Survived']]"
      ],
      "metadata": {
        "id": "NkbyPQmBxHzI",
        "outputId": "ca2a3656-1b46-430c-ca3e-82f36e7525fc",
        "colab": {
          "base_uri": "https://localhost:8080/",
          "height": 424
        }
      },
      "execution_count": 859,
      "outputs": [
        {
          "output_type": "execute_result",
          "data": {
            "text/plain": [
              "     PassengerId  Survived\n",
              "0            892         0\n",
              "2            894         0\n",
              "3            895         0\n",
              "4            896         1\n",
              "5            897         0\n",
              "..           ...       ...\n",
              "411         1303         1\n",
              "413         1305         0\n",
              "414         1306         1\n",
              "415         1307         0\n",
              "416         1308         0\n",
              "\n",
              "[371 rows x 2 columns]"
            ],
            "text/html": [
              "\n",
              "  <div id=\"df-7a189b63-a09d-46df-a028-d964b5465b75\">\n",
              "    <div class=\"colab-df-container\">\n",
              "      <div>\n",
              "<style scoped>\n",
              "    .dataframe tbody tr th:only-of-type {\n",
              "        vertical-align: middle;\n",
              "    }\n",
              "\n",
              "    .dataframe tbody tr th {\n",
              "        vertical-align: top;\n",
              "    }\n",
              "\n",
              "    .dataframe thead th {\n",
              "        text-align: right;\n",
              "    }\n",
              "</style>\n",
              "<table border=\"1\" class=\"dataframe\">\n",
              "  <thead>\n",
              "    <tr style=\"text-align: right;\">\n",
              "      <th></th>\n",
              "      <th>PassengerId</th>\n",
              "      <th>Survived</th>\n",
              "    </tr>\n",
              "  </thead>\n",
              "  <tbody>\n",
              "    <tr>\n",
              "      <th>0</th>\n",
              "      <td>892</td>\n",
              "      <td>0</td>\n",
              "    </tr>\n",
              "    <tr>\n",
              "      <th>2</th>\n",
              "      <td>894</td>\n",
              "      <td>0</td>\n",
              "    </tr>\n",
              "    <tr>\n",
              "      <th>3</th>\n",
              "      <td>895</td>\n",
              "      <td>0</td>\n",
              "    </tr>\n",
              "    <tr>\n",
              "      <th>4</th>\n",
              "      <td>896</td>\n",
              "      <td>1</td>\n",
              "    </tr>\n",
              "    <tr>\n",
              "      <th>5</th>\n",
              "      <td>897</td>\n",
              "      <td>0</td>\n",
              "    </tr>\n",
              "    <tr>\n",
              "      <th>...</th>\n",
              "      <td>...</td>\n",
              "      <td>...</td>\n",
              "    </tr>\n",
              "    <tr>\n",
              "      <th>411</th>\n",
              "      <td>1303</td>\n",
              "      <td>1</td>\n",
              "    </tr>\n",
              "    <tr>\n",
              "      <th>413</th>\n",
              "      <td>1305</td>\n",
              "      <td>0</td>\n",
              "    </tr>\n",
              "    <tr>\n",
              "      <th>414</th>\n",
              "      <td>1306</td>\n",
              "      <td>1</td>\n",
              "    </tr>\n",
              "    <tr>\n",
              "      <th>415</th>\n",
              "      <td>1307</td>\n",
              "      <td>0</td>\n",
              "    </tr>\n",
              "    <tr>\n",
              "      <th>416</th>\n",
              "      <td>1308</td>\n",
              "      <td>0</td>\n",
              "    </tr>\n",
              "  </tbody>\n",
              "</table>\n",
              "<p>371 rows × 2 columns</p>\n",
              "</div>\n",
              "      <button class=\"colab-df-convert\" onclick=\"convertToInteractive('df-7a189b63-a09d-46df-a028-d964b5465b75')\"\n",
              "              title=\"Convert this dataframe to an interactive table.\"\n",
              "              style=\"display:none;\">\n",
              "        \n",
              "  <svg xmlns=\"http://www.w3.org/2000/svg\" height=\"24px\"viewBox=\"0 0 24 24\"\n",
              "       width=\"24px\">\n",
              "    <path d=\"M0 0h24v24H0V0z\" fill=\"none\"/>\n",
              "    <path d=\"M18.56 5.44l.94 2.06.94-2.06 2.06-.94-2.06-.94-.94-2.06-.94 2.06-2.06.94zm-11 1L8.5 8.5l.94-2.06 2.06-.94-2.06-.94L8.5 2.5l-.94 2.06-2.06.94zm10 10l.94 2.06.94-2.06 2.06-.94-2.06-.94-.94-2.06-.94 2.06-2.06.94z\"/><path d=\"M17.41 7.96l-1.37-1.37c-.4-.4-.92-.59-1.43-.59-.52 0-1.04.2-1.43.59L10.3 9.45l-7.72 7.72c-.78.78-.78 2.05 0 2.83L4 21.41c.39.39.9.59 1.41.59.51 0 1.02-.2 1.41-.59l7.78-7.78 2.81-2.81c.8-.78.8-2.07 0-2.86zM5.41 20L4 18.59l7.72-7.72 1.47 1.35L5.41 20z\"/>\n",
              "  </svg>\n",
              "      </button>\n",
              "      \n",
              "  <style>\n",
              "    .colab-df-container {\n",
              "      display:flex;\n",
              "      flex-wrap:wrap;\n",
              "      gap: 12px;\n",
              "    }\n",
              "\n",
              "    .colab-df-convert {\n",
              "      background-color: #E8F0FE;\n",
              "      border: none;\n",
              "      border-radius: 50%;\n",
              "      cursor: pointer;\n",
              "      display: none;\n",
              "      fill: #1967D2;\n",
              "      height: 32px;\n",
              "      padding: 0 0 0 0;\n",
              "      width: 32px;\n",
              "    }\n",
              "\n",
              "    .colab-df-convert:hover {\n",
              "      background-color: #E2EBFA;\n",
              "      box-shadow: 0px 1px 2px rgba(60, 64, 67, 0.3), 0px 1px 3px 1px rgba(60, 64, 67, 0.15);\n",
              "      fill: #174EA6;\n",
              "    }\n",
              "\n",
              "    [theme=dark] .colab-df-convert {\n",
              "      background-color: #3B4455;\n",
              "      fill: #D2E3FC;\n",
              "    }\n",
              "\n",
              "    [theme=dark] .colab-df-convert:hover {\n",
              "      background-color: #434B5C;\n",
              "      box-shadow: 0px 1px 3px 1px rgba(0, 0, 0, 0.15);\n",
              "      filter: drop-shadow(0px 1px 2px rgba(0, 0, 0, 0.3));\n",
              "      fill: #FFFFFF;\n",
              "    }\n",
              "  </style>\n",
              "\n",
              "      <script>\n",
              "        const buttonEl =\n",
              "          document.querySelector('#df-7a189b63-a09d-46df-a028-d964b5465b75 button.colab-df-convert');\n",
              "        buttonEl.style.display =\n",
              "          google.colab.kernel.accessAllowed ? 'block' : 'none';\n",
              "\n",
              "        async function convertToInteractive(key) {\n",
              "          const element = document.querySelector('#df-7a189b63-a09d-46df-a028-d964b5465b75');\n",
              "          const dataTable =\n",
              "            await google.colab.kernel.invokeFunction('convertToInteractive',\n",
              "                                                     [key], {});\n",
              "          if (!dataTable) return;\n",
              "\n",
              "          const docLinkHtml = 'Like what you see? Visit the ' +\n",
              "            '<a target=\"_blank\" href=https://colab.research.google.com/notebooks/data_table.ipynb>data table notebook</a>'\n",
              "            + ' to learn more about interactive tables.';\n",
              "          element.innerHTML = '';\n",
              "          dataTable['output_type'] = 'display_data';\n",
              "          await google.colab.output.renderOutput(dataTable, element);\n",
              "          const docLink = document.createElement('div');\n",
              "          docLink.innerHTML = docLinkHtml;\n",
              "          element.appendChild(docLink);\n",
              "        }\n",
              "      </script>\n",
              "    </div>\n",
              "  </div>\n",
              "  "
            ]
          },
          "metadata": {},
          "execution_count": 859
        }
      ]
    },
    {
      "cell_type": "code",
      "source": [],
      "metadata": {
        "id": "W1eHjYYkF5Cx"
      },
      "execution_count": null,
      "outputs": []
    }
  ]
}